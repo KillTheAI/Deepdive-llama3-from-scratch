{
 "cells": [
  {
   "cell_type": "markdown",
   "metadata": {
    "tags": []
   },
   "source": [
    "# Deepdive-llama3-from-scratch\n",
    "\n",
    "<center>\n",
    "    <img src=\"images/logo.png\" width=\"600px\"/>\n",
    "</center>\n",
    "\n",
    "This project is an enhanced version based on [naklecha/llama3-from-scratch](https://github.com/naklecha/llama3-from-scratch). It has been comprehensively improved and optimized on the basis of the original project, aiming to help everyone more easily understand and master the implementation principle and the detailed reasoning process of the Llama3 model. Thanks to the contributions of the original author :)\n",
    "<br><br>\n",
    "<span style=\"font-size: 1.2em; font-weight: bold;\">\n",
    "The following are the core improvements of this project:\n",
    "</span>\n",
    "\n",
    "\n",
    "1. **Structural Optimization**  \n",
    "   The presentation sequence of the content has been rearranged, and the directory structure has been adjusted to make the learning process clearer and more reasonable, facilitating everyone to understand the code step by step.\n",
    "   \n",
    "2. **Code Annotations**  \n",
    "   A large number of detailed code annotations have been added to teach you how to understand the function of each piece of code. Even beginners can get started easily.\n",
    "   \n",
    "3. **Dimension Tracking**  \n",
    "   The changes in the matrix dimensions in each step of the calculation are fully annotated, making it easier for you to understand the entire process.\n",
    "   \n",
    "4. **Principle Explanation**  \n",
    "   Abundant principle - related explanations and a large number of detailed derivations have been added. It not only tells you \"what to do\" but also deeply explains \"why to do it\", helping you fundamentally master the design concept of the model.\n",
    "   \n",
    "5. **KV-Cache Insights**  \n",
    "   An additional derivation chapter on KV-Cache has been added, covering detailed core concepts, principle derivations, and the application process in the attention mechanism, allowing you to understand every detail and philosophy of KV-Cache from its roots. \n",
    "   \n",
    "6. **Bilingual Documents**  \n",
    "   Code files in both Chinese and English are provided. The native Chinese translation avoids the problem of inaccurate expressions caused by machine translation.\n",
    "<br><br>   "
   ]
  },
  {
   "cell_type": "markdown",
   "metadata": {
    "tags": []
   },
   "source": [
    "<span style=\"font-size: 1.5em; font-weight: bold;\">\n",
    "Now, let's start the formal learning process!\n",
    "</span>\n",
    "<br><br>\n",
    "\n",
    "In this file, I implemented Llama3 from scratch, one tensor and matrix multiplication at a time.\n",
    "<br>\n",
    "Also, I'm going to load tensors directly from the model file that meta provided for Llama3 (Meta-Llama-3-8B), you need to download the weights before running this file. Here is the offical link to download the weights: https://llama.meta.com/llama-downloads/\n",
    "<br>\n",
    "Note: This project uses the original model files, that is, the models in the \"original\" folder of the downloaded model files.\n",
    "<br><br>\n",
    "\n",
    "<span style=\"font-size: 1.5em; font-weight: bold;\">\n",
    "    Please Note! There is a small mistake in the figure:<br>\n",
    "    <span style=\"font-size: 0.9em; font-weight: normal;\">\n",
    "        In each Transformer block, the input of the second \"add\" operation should be the output of the feed-forward layer and the output of the first \"add\" operation, instead of the result after normalization.\n",
    "        <br>\n",
    "        If we consider multi-head self-attention and feed-forward as the same type of operations (both for feature transformation), then the forms and processes of the two \"normalization - feature transformation - residual connection (add)\" are exactly the same.\n",
    "    </span>\n",
    "</span>\n",
    "\n",
    "<div>\n",
    "    <img src=\"images/archi.png\"/>\n",
    "</div>"
   ]
  },
  {
   "cell_type": "markdown",
   "metadata": {
    "tags": []
   },
   "source": [
    "# Loading the model\n",
    "## Loading the tokenizer\n",
    "\n",
    "The tokenizer is used to split the input text string into a sequence of sub-words, making it easier to input to the model.\n",
    "<br>\n",
    "I'm not going to implement a bpe tokenizer (but andrej karpathy has a really clean implementation), \n",
    "link to his implementation: https://github.com/karpathy/minbpe\n",
    "\n",
    "<div>\n",
    "    <img src=\"images/karpathyminbpe.png\" width=\"600\"/>\n",
    "</div>\n",
    "<br><br>\n",
    "\n",
    "<span style=\"font-size: 1.2em; font-weight: bold;\">Summary of the steps to load the BPE-based tokenizer:</span>\n",
    "\n",
    "1. Loading regular words: Load the local tokenizer model dictionary (which only contains regular subwords and no special tokens).\n",
    "2. Definition of the special words: Manually define special tokens (using ready-made ones or modifying based on the ready-made ones).\n",
    "3. Definition of the text rough-splitting rule: Define the regular expression for text rough-splitting (just using a ready-made one). The input will go through two steps of rough-splitting (based on the regular expression) and fine-splitting (based on BPE) to obtain the final tokenization result.\n",
    "4. Create tokenizer: Create a text encoder-decoder object based on the open-sourced tiktoken library by OpenAI (which can further split the rough-splitting result based on the BPE algorithm)."
   ]
  },
  {
   "cell_type": "code",
   "execution_count": 1,
   "metadata": {
    "ExecutionIndicator": {
     "show": false
    },
    "execution": {
     "iopub.execute_input": "2025-02-19T03:40:17.243821Z",
     "iopub.status.busy": "2025-02-19T03:40:17.243482Z",
     "iopub.status.idle": "2025-02-19T03:40:19.008794Z",
     "shell.execute_reply": "2025-02-19T03:40:19.008290Z",
     "shell.execute_reply.started": "2025-02-19T03:40:17.243800Z"
    },
    "tags": []
   },
   "outputs": [
    {
     "name": "stdout",
     "output_type": "stream",
     "text": [
      "create tokenizer successed!\n",
      "Original string:  Hello world! It's a test. 这是一个测试. alongwords. a long words. 123 456 789.\n",
      "Regular expression splitting result:  ['Hello', ' world', '!', ' It', \"'s\", ' a', ' test', '.', ' 这是一个测试', '.', ' alongwords', '.', ' a', ' long', ' words', '.', ' ', '123', ' ', '456', ' ', '789', '.']\n",
      "Tokenizer splitting result:  ['Hello', ' world', '!', ' It', \"'s\", ' a', ' test', '.', ' 这', '是一个', '测试', '.', ' along', 'words', '.', ' a', ' long', ' words', '.', ' ', '123', ' ', '456', ' ', '789', '.']\n",
      "Tokenizer splitting result ids:  [('Hello', 9906), (' world', 1917), ('!', 0), (' It', 1102), (\"'s\", 596), (' a', 264), (' test', 1296), ('.', 13), (' 这', 122255), ('是一个', 122503), ('测试', 82805), ('.', 13), (' along', 3235), ('words', 5880), ('.', 13), (' a', 264), (' long', 1317), (' words', 4339), ('.', 13), (' ', 220), ('123', 4513), (' ', 220), ('456', 10961), (' ', 220), ('789', 16474), ('.', 13)]\n"
     ]
    }
   ],
   "source": [
    "# Loading the BPE-based Tokenizer\n",
    "\n",
    "# Import related libraries\n",
    "from pathlib import Path  # Used to obtain the file name/model name from the file path\n",
    "import tiktoken  # An open-source library developed by OpenAI for text encoding and decoding (mutual conversion between text and token IDs)\n",
    "from tiktoken.load import load_tiktoken_bpe  # Load the BPE model\n",
    "import torch  # Used for building models and matrix calculations\n",
    "import json  # Used for loading configuration files\n",
    "import matplotlib.pyplot as plt  # Used for plotting graphs\n",
    "\n",
    "\n",
    "tokenizer_path = \"Meta-Llama-3-8B/original/tokenizer.model\"  # Path to the tokenizer model\n",
    "\n",
    "# Special tokens outside the regular dictionary.\n",
    "# These special tokens are present in the 'added_tokens' field of both 'tokenizer.json' and 'tokenizer_config.json' in the \"Meta-Llama-3-8B/\" path\n",
    "special_tokens = [\n",
    "            \"<|begin_of_text|>\",\n",
    "            \"<|end_of_text|>\",\n",
    "            \"<|reserved_special_token_0|>\",  # Reserved special tokens from 0 to 250\n",
    "            \"<|reserved_special_token_1|>\",\n",
    "            \"<|reserved_special_token_2|>\",\n",
    "            \"<|reserved_special_token_3|>\",\n",
    "            \"<|start_header_id|>\",  # Start of header information, used to mark the header information that wraps structured data, such as metadata\n",
    "            \"<|end_header_id|>\",  # End of header information\n",
    "            \"<|reserved_special_token_4|>\",\n",
    "            \"<|eot_id|>\",  # end of turn, used to mark the end of the current turn in multi-turn conversations\n",
    "        ] + [f\"<|reserved_special_token_{i}|>\" for i in range(5, 256 - 5)]\n",
    "\n",
    "\n",
    "# Load the BPE model (actually a dictionary)\n",
    "# A dictionary of subword(bytes type, decoded with utf-8)-rank(id) pairs, with 128000 words, not including the 256 special tokens above,\n",
    "# so the total size of the model's dictionary will be 128256 in after operation (but not here)\n",
    "# The rank values are an increasing sequence starting from 0, used to determine the priority order of subword unit merging,\n",
    "# the higher the priority, the earlier the merging. Therefore, the variable name here is \"mergeable_ranks\" instead of something like BPE or word dictionary\n",
    "# The special tokens are not added to the dictionary probably for flexibility,\n",
    "# making it easy to add specific tokens when facing different model architectures or tasks with different special tokens, and keeping the dictionary size unchanged\n",
    "mergeable_ranks = load_tiktoken_bpe(tokenizer_path)\n",
    "\n",
    "\n",
    "# Create a text encoder-decoder object\n",
    "# The pat_str is roughly divided into three types: words with abbreviations & words, Chinese segments, 1-3-digit numbers & other special characters\n",
    "tokenizer = tiktoken.Encoding(\n",
    "    name=Path(tokenizer_path).name,  # Name of the encoder, which is convenient when debugging and logging to use different encoders\n",
    "    pat_str=r\"(?i:'s|'t|'re|'ve|'m|'ll|'d)|[^\\r\\n\\p{L}\\p{N}]?\\p{L}+|\\p{N}{1,3}| ?[^\\s\\p{L}\\p{N}]+[\\r\\n]*|\\s*[\\r\\n]+|\\s+(?!\\S)|\\s+\",  # Regular expression for initially roughly splitting the text into a token sequence\n",
    "    mergeable_ranks=mergeable_ranks,  # Pass in the loaded BPE model\n",
    "    special_tokens={token: len(mergeable_ranks) + i for i, token in enumerate(special_tokens)},  # Dictionary for adding special token-id pairs\n",
    ")\n",
    "\n",
    "\n",
    "# Test whether the creation is successful, that is, whether the encoder-decoder can run correctly\n",
    "print(tokenizer.decode(tokenizer.encode(\"create tokenizer successed!\")))\n",
    "\n",
    "\n",
    "# The following is a case test to test the effects and differences between the rough splitting of pat_str and the fine splitting of the tokenizer\n",
    "# The regular expression of pat_str only provides a preliminary splitting,\n",
    "# some long sentences or Chinese text will not be split and will be further refined based on the BPE algorithm in the tokenizer\n",
    "import regex  # Since some Unicode syntax such as \\p{L} is used in pat_str, the re library cannot be used\n",
    "\n",
    "## Create a regular expression\n",
    "pat_str=r\"(?i:'s|'t|'re|'ve|'m|'ll|'d)|[^\\r\\n\\p{L}\\p{N}]?\\p{L}+|\\p{N}{1,3}| ?[^\\s\\p{L}\\p{N}]+[\\r\\n]*|\\s*[\\r\\n]+|\\s+(?!\\S)|\\s+\"\n",
    "pattern = regex.compile(pat_str)\n",
    "\n",
    "## Text segmentation\n",
    "text = \"Hello world! It's a test. 这是一个测试. alongwords. a long words. 123 456 789.\"  # testing string\n",
    "re_tokens = pattern.findall(text)  # Split the string using the regular expression\n",
    "merge_tokens_id = tokenizer.encode(text)  # Split the string using the tokenizer\n",
    "merge_tokens = [tokenizer.decode([i]) for i in merge_tokens_id]  # Convert the id sequence of the tokenizer's splitting result into an actual subword sequence\n",
    "\n",
    "## Output result\n",
    "print(\"Original string: \", text)\n",
    "print(\"Regular expression splitting result: \", re_tokens)\n",
    "print(\"Tokenizer splitting result: \", merge_tokens)\n",
    "print(\"Tokenizer splitting result ids: \", list(zip(merge_tokens, merge_tokens_id)))\n",
    "\n",
    "## From the results, it can be seen that the leading spaces of all words are retained, rather than being a single space token or being deleted.\n",
    "## This is beneficial for the model to correctly understand the boundary information between words, such as 'alongwords' in the example.\n",
    "\n",
    "\n",
    "_=\"\"\"\n",
    "Output result:\n",
    "\n",
    "create tokenizer successed!\n",
    "Original string: Hello world! It's a test. 这是一个测试. alongwords. a long words. 123 456 789.\n",
    "Regular expression splitting result: ['Hello', ' world', '!', ' It', \"'s\", ' a', ' test', '.', ' 这是一个测试', '.', ' alongwords', '.',\n",
    "               ' a', ' long', ' words', '.', ' ', '123', ' ', '456', ' ', '789', '.']\n",
    "Tokenizer splitting result: ['Hello', ' world', '!', ' It', \"'s\", ' a', ' test', '.', ' 这', '是一个', '测试', '.',\n",
    "                    ' along', 'words', '.', ' a', ' long', ' words', '.', ' ', '123', ' ', '456', ' ', '789', '.']\n",
    "Tokenizer splitting result ids: [('Hello', 9906), (' world', 1917), ('!', 0), (' It', 1102), (\"'s\", 596), (' a', 264),\n",
    "                      (' test', 1296), ('.', 13), (' 这', 122255), ('是一个', 122503), ('测试', 82805), ('.', 13),\n",
    "                      (' along', 3235), ('words', 5880), ('.', 13), (' a', 264), (' long', 1317), (' words', 4339),\n",
    "                      ('.', 13), (' ', 220), ('123', 4513), (' ', 220), ('456', 10961), (' ', 220), ('789', 16474), ('.', 13)]\n",
    "\n",
    "\"\"\""
   ]
  },
  {
   "cell_type": "markdown",
   "metadata": {},
   "source": [
    "## Reading model files and configuration files\n",
    "\n",
    "Generally, reading a model file depends on how its model class is written and the variable names within it.\n",
    "<br>\n",
    "However, since we are implementing Llama3 from scratch, we will read one tensor file at a time.\n",
    "<div>\n",
    "    <img src=\"images/model.png\" width=\"600\"/>\n",
    "</div>"
   ]
  },
  {
   "cell_type": "code",
   "execution_count": 2,
   "metadata": {
    "ExecutionIndicator": {
     "show": false
    },
    "execution": {
     "iopub.execute_input": "2025-02-19T03:40:19.009935Z",
     "iopub.status.busy": "2025-02-19T03:40:19.009616Z",
     "iopub.status.idle": "2025-02-19T03:40:57.394888Z",
     "shell.execute_reply": "2025-02-19T03:40:57.394322Z",
     "shell.execute_reply.started": "2025-02-19T03:40:19.009917Z"
    },
    "tags": []
   },
   "outputs": [
    {
     "name": "stdout",
     "output_type": "stream",
     "text": [
      "[\n",
      "    \"tok_embeddings.weight\",\n",
      "    \"layers.0.attention.wq.weight\",\n",
      "    \"layers.0.attention.wk.weight\",\n",
      "    \"layers.0.attention.wv.weight\",\n",
      "    \"layers.0.attention.wo.weight\",\n",
      "    \"layers.0.feed_forward.w1.weight\",\n",
      "    \"layers.0.feed_forward.w3.weight\",\n",
      "    \"layers.0.feed_forward.w2.weight\",\n",
      "    \"layers.0.attention_norm.weight\",\n",
      "    \"layers.0.ffn_norm.weight\",\n",
      "    \"layers.1.attention.wq.weight\",\n",
      "    \"layers.1.attention.wk.weight\",\n",
      "    \"layers.1.attention.wv.weight\",\n",
      "    \"layers.1.attention.wo.weight\",\n",
      "    \"layers.1.feed_forward.w1.weight\",\n",
      "    \"layers.1.feed_forward.w3.weight\",\n",
      "    \"layers.1.feed_forward.w2.weight\",\n",
      "    \"layers.1.attention_norm.weight\",\n",
      "    \"layers.1.ffn_norm.weight\",\n",
      "    \"layers.2.attention.wq.weight\"\n",
      "]\n"
     ]
    }
   ],
   "source": [
    "# Load the model, a dictionary such as {\"network-layer-name\": tensor-type parameters}\n",
    "model = torch.load(\"Meta-Llama-3-8B/original/consolidated.00.pth\")\n",
    "\n",
    "# Print the names of the first 20 network layers to verify if the model is loaded correctly.\n",
    "print(json.dumps(list(model.keys())[:20], indent=4))"
   ]
  },
  {
   "cell_type": "code",
   "execution_count": 3,
   "metadata": {
    "ExecutionIndicator": {
     "show": false
    },
    "execution": {
     "iopub.execute_input": "2025-02-19T03:40:57.395711Z",
     "iopub.status.busy": "2025-02-19T03:40:57.395479Z",
     "iopub.status.idle": "2025-02-19T03:40:57.427477Z",
     "shell.execute_reply": "2025-02-19T03:40:57.427048Z",
     "shell.execute_reply.started": "2025-02-19T03:40:57.395695Z"
    },
    "tags": []
   },
   "outputs": [
    {
     "data": {
      "text/plain": [
       "{'dim': 4096,\n",
       " 'n_layers': 32,\n",
       " 'n_heads': 32,\n",
       " 'n_kv_heads': 8,\n",
       " 'vocab_size': 128256,\n",
       " 'multiple_of': 1024,\n",
       " 'ffn_dim_multiplier': 1.3,\n",
       " 'norm_eps': 1e-05,\n",
       " 'rope_theta': 500000.0}"
      ]
     },
     "execution_count": 3,
     "metadata": {},
     "output_type": "execute_result"
    }
   ],
   "source": [
    "# Load the configuration file.\n",
    "# The specific meaning of each configuration is described in the next section.\n",
    "with open(\"Meta-Llama-3-8B/original/params.json\", \"r\") as f:\n",
    "    config = json.load(f)\n",
    "config"
   ]
  },
  {
   "cell_type": "markdown",
   "metadata": {},
   "source": [
    "### Inferring model details using the configuration file\n",
    "\n",
    "| Configuration Item | Configuration Value | Meaning |\n",
    "| ---- | ---- | ---- |\n",
    "| dim | 4096 | Dimension of the hidden layer, i.e., the vector representation of each token has a dimension of 4096. |\n",
    "| n_layers | 32 | Number of model layers, i.e., the model has 32 Transformer layers or say Transformer blocks. |\n",
    "| n_heads | 32 | Number of heads in multi-head attention, i.e., each multi-head attention block has 32 heads. The so-called multi-head means that multiple independent attention mechanisms are used simultaneously to capture different features or information of the input data. |\n",
    "| n_kv_heads | 8 | Number of heads in key-value attention, used for Grouped Query Attention (GQA). That is, the key-value attention has 8 heads, while the query has n_heads=32 heads. Every 4 query heads will share a set of key-value pairs. |\n",
    "| vocab_size | 128256 | Size of the vocabulary, including 128000 ordinary tokens and 256 special tokens. |\n",
    "| multiple_of | 1024 | Multiple constraint on the dimension of the hidden layer. That is, the dimension of the model's hidden layer should be a multiple of 1024 to optimize computational efficiency. |\n",
    "| ffn_dim_multiplier | 1.3 | Multiplier for the hidden layer dimension of the feed-forward network layer, used to calculate the hidden layer dimension of the FFN. The calculation process can be seen in the corresponding section. |\n",
    "| norm_eps | 1e-05 | Constant added to the denominator in layer normalization calculation to prevent division by zero and ensure numerical stability. |\n",
    "| rope_theta | 500000.0 | Basic frequency scaling factor in Rotary Position Encoding (RoPE), which controls the periodicity and resolution of position encoding, thus affecting the model's ability to capture sequences of different lengths and positional relationships. |\n",
    "\n",
    "<br>\n",
    "\n",
    "<span style=\"font-size: 1.2em; font-weight: bold;\">\n",
    "Based on the configuration details, the internal calculation process of attention given an input can be inferred as follows:\n",
    "</span>\n",
    "\n",
    "<pre>\n",
    "input(L, 4096) -> query_proj(L, 128, 32)\n",
    "               -> key_proj(L, 128, 8)\n",
    "               -> value_proj(L, 128, 8)\n",
    "                                           -> group_query_attention(L, 128, 32)\n",
    "                                           -> output_proj(L, 4096)\n",
    "                                                                                   -> output(L, 4096)\n",
    "</pre>"
   ]
  },
  {
   "cell_type": "code",
   "execution_count": 4,
   "metadata": {
    "ExecutionIndicator": {
     "show": false
    },
    "execution": {
     "iopub.execute_input": "2025-02-19T03:40:57.428623Z",
     "iopub.status.busy": "2025-02-19T03:40:57.428401Z",
     "iopub.status.idle": "2025-02-19T03:40:57.431615Z",
     "shell.execute_reply": "2025-02-19T03:40:57.431182Z",
     "shell.execute_reply.started": "2025-02-19T03:40:57.428608Z"
    },
    "tags": []
   },
   "outputs": [],
   "source": [
    "# Record these configurations, which will be gradually used later.\n",
    "dim = config[\"dim\"]\n",
    "n_layers = config[\"n_layers\"]\n",
    "n_heads = config[\"n_heads\"]\n",
    "n_kv_heads = config[\"n_kv_heads\"]\n",
    "vocab_size = config[\"vocab_size\"]\n",
    "multiple_of = config[\"multiple_of\"]\n",
    "ffn_dim_multiplier = config[\"ffn_dim_multiplier\"]\n",
    "norm_eps = config[\"norm_eps\"]\n",
    "rope_theta = torch.tensor(config[\"rope_theta\"])"
   ]
  },
  {
   "cell_type": "markdown",
   "metadata": {},
   "source": [
    "# Convert the input text into embeddings\n",
    "\n",
    "Before inputting the text in string form to the network layer, it needs to be converted into vector form for mathematical calculations.\n",
    "<br>\n",
    "The required process is: use the tokenizer to split the input text into a subword sequence -> convert the subwords into vector representations.\n",
    "\n",
    "## Convert the text into a sequence of token ids\n",
    "Here, we use tiktoken (a library from OpenAI) as the tokenizer.\n",
    "<div>\n",
    "    <img src=\"images/tokens.png\" width=\"600\"/>\n",
    "</div>"
   ]
  },
  {
   "cell_type": "code",
   "execution_count": 5,
   "metadata": {
    "ExecutionIndicator": {
     "show": false
    },
    "execution": {
     "iopub.execute_input": "2025-02-19T03:40:57.432295Z",
     "iopub.status.busy": "2025-02-19T03:40:57.432116Z",
     "iopub.status.idle": "2025-02-19T03:40:57.435828Z",
     "shell.execute_reply": "2025-02-19T03:40:57.435425Z",
     "shell.execute_reply.started": "2025-02-19T03:40:57.432280Z"
    },
    "tags": []
   },
   "outputs": [
    {
     "name": "stdout",
     "output_type": "stream",
     "text": [
      "[128000, 1820, 4320, 311, 279, 17139, 3488, 315, 2324, 11, 279, 15861, 11, 323, 4395, 374, 220]\n",
      "['<|begin_of_text|>', 'the', ' answer', ' to', ' the', ' ultimate', ' question', ' of', ' life', ',', ' the', ' universe', ',', ' and', ' everything', ' is', ' ']\n"
     ]
    }
   ],
   "source": [
    "# Convert the input prompt into a sequence of token ids\n",
    "prompt = \"the answer to the ultimate question of life, the universe, and everything is \"  # Input text\n",
    "tokens = [128000] + tokenizer.encode(prompt)  # Perform subword segmentation and add a special token <|begin_of_text|> indicating the start of the text at the beginning of the text. Dimension: [17]\n",
    "print(tokens)  # Check the segmentation result\n",
    "tokens = torch.tensor(tokens)  # Convert to tensor type for subsequent matrix calculations. [17]\n",
    "\n",
    "# Convert the token ids into a specific sequence of token subwords, which is only for display purposes and not actually needed\n",
    "prompt_split_as_tokens = [tokenizer.decode([token]) for token in tokens]\n",
    "print(prompt_split_as_tokens)"
   ]
  },
  {
   "cell_type": "markdown",
   "metadata": {},
   "source": [
    "## Convert the sequence of token ids into embeddings\n",
    "\n",
    "Sorry, this is the only part in this codebase where I use built-in neural network modules.\n",
    "<br>\n",
    "In short, our original [17x1] token sequence is now [17x4096], that is, 17 embeddings of length 4096 (one for each token).\n",
    "<br><br>\n",
    "Note: Pay attention to the change in the shape of this tensor, which will make it easier for you to understand the entire process (And i will annotate the shape changes in all steps).\n",
    "\n",
    "<div>\n",
    "    <img src=\"images/embeddings.png\" width=\"600\"/>\n",
    "</div>"
   ]
  },
  {
   "cell_type": "code",
   "execution_count": 6,
   "metadata": {
    "ExecutionIndicator": {
     "show": false
    },
    "execution": {
     "iopub.execute_input": "2025-02-19T03:40:57.436474Z",
     "iopub.status.busy": "2025-02-19T03:40:57.436274Z",
     "iopub.status.idle": "2025-02-19T03:41:00.757481Z",
     "shell.execute_reply": "2025-02-19T03:41:00.756893Z",
     "shell.execute_reply.started": "2025-02-19T03:40:57.436459Z"
    },
    "tags": []
   },
   "outputs": [
    {
     "data": {
      "text/plain": [
       "torch.Size([17, 4096])"
      ]
     },
     "execution_count": 6,
     "metadata": {},
     "output_type": "execute_result"
    }
   ],
   "source": [
    "# Create an embedding network layer to map discrete token ids to a continuous vector space\n",
    "embedding_layer = torch.nn.Embedding(vocab_size, dim)\n",
    "\n",
    "# Update the parameters of the embedding network with the pre-trained parameter values in Llama3\n",
    "embedding_layer.weight.data.copy_(model[\"tok_embeddings.weight\"])\n",
    "\n",
    "# Use the embedding network to convert the input sequence of token ids into vector representations\n",
    "# The embedding network only looks up the corresponding vectors based on the ids in a dictionary and does not involve interactions between tokens.\n",
    "# [17] -> [17x4096]\n",
    "token_embeddings_unnormalized = embedding_layer(tokens).to(torch.bfloat16)  # By default, it is in full-precision float32. Here, we change it to the half-precision format to reduce memory usage.\n",
    "\n",
    "token_embeddings_unnormalized.shape"
   ]
  },
  {
   "cell_type": "markdown",
   "metadata": {
    "tags": []
   },
   "source": [
    "# Build the first Transformer block\n",
    "\n",
    "From the pre-trained parameters involved in the first Transformer block shown below, it includes:\n",
    "1. Two normalizations (attention_norm and ffn_norm)\n",
    "2. Implementation of the attention mechanism (4 attention.w)\n",
    "3. Implementation of the feed-forward network layer (3 feed_forward.w)\n",
    "4. (Of course, it also includes two residual connection operations that do not require pre-trained parameters)\n",
    "\n",
    "In general, the operation process in a Transformer block is as follows:\n",
    "<br>\n",
    "Normalization -> Multi-head self-attention -> Residual connection -> Normalization -> Feed-forward neural network -> Residual connection"
   ]
  },
  {
   "cell_type": "code",
   "execution_count": 7,
   "metadata": {
    "ExecutionIndicator": {
     "show": false
    },
    "execution": {
     "iopub.execute_input": "2025-02-19T03:41:00.758710Z",
     "iopub.status.busy": "2025-02-19T03:41:00.758085Z",
     "iopub.status.idle": "2025-02-19T03:41:00.761770Z",
     "shell.execute_reply": "2025-02-19T03:41:00.761352Z",
     "shell.execute_reply.started": "2025-02-19T03:41:00.758689Z"
    },
    "tags": []
   },
   "outputs": [
    {
     "name": "stdout",
     "output_type": "stream",
     "text": [
      "layers.0.attention.wq.weight torch.Size([4096, 4096])\n",
      "layers.0.attention.wk.weight torch.Size([1024, 4096])\n",
      "layers.0.attention.wv.weight torch.Size([1024, 4096])\n",
      "layers.0.attention.wo.weight torch.Size([4096, 4096])\n",
      "layers.0.feed_forward.w1.weight torch.Size([14336, 4096])\n",
      "layers.0.feed_forward.w3.weight torch.Size([14336, 4096])\n",
      "layers.0.feed_forward.w2.weight torch.Size([4096, 14336])\n",
      "layers.0.attention_norm.weight torch.Size([4096])\n",
      "layers.0.ffn_norm.weight torch.Size([4096])\n"
     ]
    }
   ],
   "source": [
    "# Display all the weight parameters and their shapes of the first Transformer block\n",
    "for k, v in model.items():\n",
    "    if not k.startswith('layers'):\n",
    "        continue\n",
    "    if k.startswith('layers.1'):\n",
    "        break\n",
    "    print(k, v.shape)"
   ]
  },
  {
   "cell_type": "markdown",
   "metadata": {},
   "source": [
    "There are two points to note here:\n",
    "1. The shape of the weight matrix of a neural network is (output dimension, input dimension). During the calculation, the parameter matrix W will be transposed to (input dimension, output dimension) and then multiplied by the input X, i.e., the output Y = XW.T. You will see this in the subsequent calculations.\n",
    "2. Since Llama3 uses the grouped attention mechanism, every 4 query heads will share a set of kv vectors (for details, see the section on the details of the configuration file above). Therefore, the dimension of the weight matrix of kv is [1024, 4096], which is 1/4 of that of q ([4096, 4096])."
   ]
  },
  {
   "cell_type": "markdown",
   "metadata": {
    "tags": []
   },
   "source": [
    "## Normalization\n",
    "\n",
    "The normalization operation aims to constrain the scale differences in the data, avoiding issues such as unstable training process caused by excessive differences in vector values.\n",
    "<br><br>\n",
    "After normalization, the shape of the tensor remains [17x4096], the same as that of the embedding.\n",
    "<div>\n",
    "    <img src=\"images/norm.png\" width=\"600\"/>\n",
    "</div>"
   ]
  },
  {
   "cell_type": "markdown",
   "metadata": {},
   "source": [
    "### Using RMS normalization for embeddings\n",
    "\n",
    "Llama3 uses the Root Mean Square (RMS) normalization method, and its calculation formula is shown in the figure below.\n",
    "<br>\n",
    "It should be noted that we need a norm_eps parameter (from the configurations) because we don't want to accidentally set the RMS to 0 and perform a division by zero.\n",
    "<br>\n",
    "The formula is as follows:\n",
    "<div>\n",
    "<img src=\"images/rms.png\" width=\"600\"/>\n",
    "</div>\n",
    "<br>\n",
    "\n",
    "In addition, you may have noticed the gi parameter in the formula. This is a scaling factor learned during the model training process, used to scale the normalization result of each dimension again to enhance the model's expressive ability. Its dimension is the same as the feature dimension of the embedding, i.e., [4096]."
   ]
  },
  {
   "cell_type": "code",
   "execution_count": 8,
   "metadata": {
    "ExecutionIndicator": {
     "show": false
    },
    "execution": {
     "iopub.execute_input": "2025-02-19T03:41:00.762500Z",
     "iopub.status.busy": "2025-02-19T03:41:00.762225Z",
     "iopub.status.idle": "2025-02-19T03:41:00.765168Z",
     "shell.execute_reply": "2025-02-19T03:41:00.764745Z",
     "shell.execute_reply.started": "2025-02-19T03:41:00.762485Z"
    },
    "tags": []
   },
   "outputs": [],
   "source": [
    "# Define the calculation function for RMS normalization\n",
    "# Each token will be normalized independently\n",
    "# norm_weights is the pre-trained scaling factor (i.e., gi in the formula) to enhance the model's representational ability. It can be loaded from the model file and has 4096 dimensions\n",
    "# torch.rsqrt used to calculates the reciprocal of the square root of a tensor, i.e., 1/RMS(a)\n",
    "def rms_norm(tensor, norm_weights):\n",
    "    return (tensor * torch.rsqrt(tensor.pow(2).mean(-1, keepdim=True) + norm_eps)) * norm_weights"
   ]
  },
  {
   "cell_type": "code",
   "execution_count": 9,
   "metadata": {
    "ExecutionIndicator": {
     "show": false
    },
    "execution": {
     "iopub.execute_input": "2025-02-19T03:41:00.765927Z",
     "iopub.status.busy": "2025-02-19T03:41:00.765698Z",
     "iopub.status.idle": "2025-02-19T03:41:00.858150Z",
     "shell.execute_reply": "2025-02-19T03:41:00.857655Z",
     "shell.execute_reply.started": "2025-02-19T03:41:00.765913Z"
    },
    "tags": []
   },
   "outputs": [
    {
     "data": {
      "text/plain": [
       "(torch.Size([4096]), torch.Size([17, 4096]))"
      ]
     },
     "execution_count": 9,
     "metadata": {},
     "output_type": "execute_result"
    }
   ],
   "source": [
    "# Normalize the input\n",
    "token_embeddings = rms_norm(token_embeddings_unnormalized, model[\"layers.0.attention_norm.weight\"])  # [17x4096] & [4096] -> [17x4096]\n",
    "model[\"layers.0.attention_norm.weight\"].shape, token_embeddings.shape"
   ]
  },
  {
   "cell_type": "markdown",
   "metadata": {},
   "source": [
    "## Implementing the single-head attention mechanism from scratch\n",
    "\n",
    "In the calculation of multi-head attention on each layer, 32 heads are involved. However, the calculation processes of these heads are completely identical and independent. Therefore, in this section, we will first implement the single-head attention calculation process, and expand it to multi-head calculation in the next section.\n",
    "<div>\n",
    "    <img src=\"images/qkv.png\" width=\"600\"/>\n",
    "</div>\n",
    "<br><br>\n",
    "\n",
    "<span style=\"font-size: 1.2em; font-weight: bold;\">\n",
    "The core calculation of the attention mechanism is the calculation formula shown in the following figure.\n",
    "</span>\n",
    "\n",
    "1. We need to obtain the query, key, and value vectors by performing a linear mapping on the input embeddings.\n",
    "2. Subsequently, based on the QK vectors, we obtain the attention weights between tokens, that is, for each token, the scores of the importance or relevance of other tokens to it.\n",
    "3. Finally, based on the attention weights, we weight the value vectors to obtain the attention results corresponding to each token.\n",
    "\n",
    "<div>\n",
    "    <img src=\"images/softmax.png\" width=\"600px\"/>\n",
    "</div>"
   ]
  },
  {
   "cell_type": "markdown",
   "metadata": {},
   "source": [
    "Back to the point. Let's first load the attention heads of the first-layer Transformer.\n",
    "<br>\n",
    "&gt; When we load the query, key, value, and output weight matrices from the model (the output weight is used for information fusion among multiple heads to generate the final attention output), we will notice that their shapes are: [4096x4096], [1024x4096], [1024x4096], [4096x4096].\n",
    "<br>\n",
    "&gt; At first glance, this seems strange because ideally, we would like the q, k, v of each head to be independent of each other (in which case their shapes would be: 32x[128x4096], 8x[128x4096], 8x[128x4096]).\n",
    "<br>\n",
    "&gt; The author of the code binds them together because this helps parallelize the multiplication calculation of the attention heads.\n",
    "<br>\n",
    "&gt; But we will unfold everything..."
   ]
  },
  {
   "cell_type": "code",
   "execution_count": 10,
   "metadata": {
    "ExecutionIndicator": {
     "show": false
    },
    "execution": {
     "iopub.execute_input": "2025-02-19T03:41:00.860480Z",
     "iopub.status.busy": "2025-02-19T03:41:00.860227Z",
     "iopub.status.idle": "2025-02-19T03:41:00.863246Z",
     "shell.execute_reply": "2025-02-19T03:41:00.862833Z",
     "shell.execute_reply.started": "2025-02-19T03:41:00.860460Z"
    },
    "tags": []
   },
   "outputs": [
    {
     "name": "stdout",
     "output_type": "stream",
     "text": [
      "torch.Size([4096, 4096]) torch.Size([1024, 4096]) torch.Size([1024, 4096]) torch.Size([4096, 4096])\n"
     ]
    }
   ],
   "source": [
    "# Show the shapes of the attention weight matrices of the current q, k, v and o.\n",
    "print(\n",
    "    model[\"layers.0.attention.wq.weight\"].shape,  # [4096x4096]\n",
    "    model[\"layers.0.attention.wk.weight\"].shape,  # [1024x4096]\n",
    "    model[\"layers.0.attention.wv.weight\"].shape,  # [1024x4096]\n",
    "    model[\"layers.0.attention.wo.weight\"].shape   # [4096x4096]\n",
    ")"
   ]
  },
  {
   "cell_type": "markdown",
   "metadata": {},
   "source": [
    "### Obtain the QKV vectors corresponding to the input tokens\n",
    "\n",
    "In this section, we will convert the input token embeddings into query, key, and value vectors for the purpose of attention mechanism computation."
   ]
  },
  {
   "cell_type": "markdown",
   "metadata": {},
   "source": [
    "#### Obtain the query vector"
   ]
  },
  {
   "cell_type": "markdown",
   "metadata": {},
   "source": [
    "##### Unfold the query weight matrix\n",
    "\n",
    "We will first unfold the queries from multiple attention heads, and the final shape will be [32x128x4096].\n",
    "<br>\n",
    "Here, 32 is the number of attention heads in Llama3, 128 is the vector dimension of the query head, and 4096 is the dimension of the token embedding (the reason why the dimension of the embedding is in the last dimension is that when multiplying the input and the weight, it is usually = X*W.T, that is, multiplying by the transpose of the weight)."
   ]
  },
  {
   "cell_type": "code",
   "execution_count": 11,
   "metadata": {
    "ExecutionIndicator": {
     "show": false
    },
    "execution": {
     "iopub.execute_input": "2025-02-19T03:41:00.864043Z",
     "iopub.status.busy": "2025-02-19T03:41:00.863756Z",
     "iopub.status.idle": "2025-02-19T03:41:00.867228Z",
     "shell.execute_reply": "2025-02-19T03:41:00.866843Z",
     "shell.execute_reply.started": "2025-02-19T03:41:00.864028Z"
    },
    "tags": []
   },
   "outputs": [
    {
     "data": {
      "text/plain": [
       "torch.Size([32, 128, 4096])"
      ]
     },
     "execution_count": 11,
     "metadata": {},
     "output_type": "execute_result"
    }
   ],
   "source": [
    "# Load and modify the shape of the query weight matrix of layers.0 to unfold it in the form of multiple heads\n",
    "q_layer0 = model[\"layers.0.attention.wq.weight\"]  # Default shape is [4096x4096]\n",
    "head_dim = q_layer0.shape[0] // n_heads  # Dimension of the attention head, 4096/32 = 128\n",
    "q_layer0 = q_layer0.view(n_heads, head_dim, dim)  # Unfolded dimension, [32x128x4096]\n",
    "q_layer0.shape"
   ]
  },
  {
   "cell_type": "markdown",
   "metadata": {},
   "source": [
    "##### Obtain the first head\n",
    "Here, I access the first head of the query weight matrix in the first layer. The shape of this query weight matrix is [128x4096]."
   ]
  },
  {
   "cell_type": "code",
   "execution_count": 12,
   "metadata": {
    "ExecutionIndicator": {
     "show": false
    },
    "execution": {
     "iopub.execute_input": "2025-02-19T03:41:00.867945Z",
     "iopub.status.busy": "2025-02-19T03:41:00.867701Z",
     "iopub.status.idle": "2025-02-19T03:41:00.870644Z",
     "shell.execute_reply": "2025-02-19T03:41:00.870242Z",
     "shell.execute_reply.started": "2025-02-19T03:41:00.867930Z"
    },
    "tags": []
   },
   "outputs": [
    {
     "data": {
      "text/plain": [
       "torch.Size([128, 4096])"
      ]
     },
     "execution_count": 12,
     "metadata": {},
     "output_type": "execute_result"
    }
   ],
   "source": [
    "# Extract the weights of the first head\n",
    "q_layer0_head0 = q_layer0[0]  # [32x128x4096] -> [128x4096]\n",
    "q_layer0_head0.shape"
   ]
  },
  {
   "cell_type": "markdown",
   "metadata": {},
   "source": [
    "##### Multiply the token embeddings by the query weights to obtain the query vectors corresponding to the tokens\n",
    "\n",
    "Here, you can see that the shape of the result is [17x128]. This is because we have 17 tokens, and for each token, there is a query vector of length 128.\n",
    "\n",
    "<div>\n",
    "    <img src=\"images/q_per_token.png\" width=\"600\"/>\n",
    "</div>"
   ]
  },
  {
   "cell_type": "code",
   "execution_count": 13,
   "metadata": {
    "ExecutionIndicator": {
     "show": false
    },
    "execution": {
     "iopub.execute_input": "2025-02-19T03:41:00.871364Z",
     "iopub.status.busy": "2025-02-19T03:41:00.871081Z",
     "iopub.status.idle": "2025-02-19T03:41:01.054152Z",
     "shell.execute_reply": "2025-02-19T03:41:00.958823Z",
     "shell.execute_reply.started": "2025-02-19T03:41:00.871345Z"
    },
    "tags": []
   },
   "outputs": [
    {
     "data": {
      "text/plain": [
       "torch.Size([17, 128])"
      ]
     },
     "execution_count": 13,
     "metadata": {},
     "output_type": "execute_result"
    }
   ],
   "source": [
    "# Calculate the query values of inputs on the first query head\n",
    "# Q0_head0 = XW0_Q_head0.T\n",
    "q_per_token = torch.matmul(token_embeddings, q_layer0_head0.T)  # [17x4096] x [4096x128] = [17x128]\n",
    "q_per_token.shape"
   ]
  },
  {
   "cell_type": "markdown",
   "metadata": {
    "tags": []
   },
   "source": [
    "#### Obtain the key vector (almost the same as the query vector)\n",
    "\n",
    "<div>\n",
    "    <img src=\"images/keys.png\" width=\"600px\"/>\n",
    "</div>\n",
    "\n",
    "I want to take a lazy, so I won't elaborate on the calculation process of the key vector again. Orz. The only thing you need to remember is:\n",
    "<br>\n",
    "&gt; The key also generates a 128-dimensional vector.\n",
    "<br>\n",
    "&gt; The number of parameters of the weight matrix of the key is only 1/4 of that of the query, because the weight of each key is shared by 4 heads simultaneously to reduce the required amount of calculation."
   ]
  },
  {
   "cell_type": "code",
   "execution_count": 14,
   "metadata": {
    "ExecutionIndicator": {
     "show": false
    },
    "execution": {
     "iopub.execute_input": "2025-02-19T03:41:01.055008Z",
     "iopub.status.busy": "2025-02-19T03:41:01.054773Z",
     "iopub.status.idle": "2025-02-19T03:41:01.058496Z",
     "shell.execute_reply": "2025-02-19T03:41:01.058062Z",
     "shell.execute_reply.started": "2025-02-19T03:41:01.054991Z"
    },
    "tags": []
   },
   "outputs": [
    {
     "data": {
      "text/plain": [
       "torch.Size([8, 128, 4096])"
      ]
     },
     "execution_count": 14,
     "metadata": {},
     "output_type": "execute_result"
    }
   ],
   "source": [
    "# Load and modify the shape of the key weight matrix of layers.0 to expand it in a multi-head form\n",
    "# Different from the query weight matrix, the key has 8 attention heads, so the number of parameters is 1/4 of that of the query matrix\n",
    "k_layer0 = model[\"layers.0.attention.wk.weight\"]  # [1024x4096]\n",
    "k_layer0 = k_layer0.view(n_kv_heads, k_layer0.shape[0] // n_kv_heads, dim) # [8x128x4096]\n",
    "k_layer0.shape"
   ]
  },
  {
   "cell_type": "code",
   "execution_count": 15,
   "metadata": {
    "ExecutionIndicator": {
     "show": false
    },
    "execution": {
     "iopub.execute_input": "2025-02-19T03:41:01.059196Z",
     "iopub.status.busy": "2025-02-19T03:41:01.058940Z",
     "iopub.status.idle": "2025-02-19T03:41:01.062053Z",
     "shell.execute_reply": "2025-02-19T03:41:01.061611Z",
     "shell.execute_reply.started": "2025-02-19T03:41:01.059180Z"
    },
    "tags": []
   },
   "outputs": [
    {
     "data": {
      "text/plain": [
       "torch.Size([128, 4096])"
      ]
     },
     "execution_count": 15,
     "metadata": {},
     "output_type": "execute_result"
    }
   ],
   "source": [
    "# Extract the weights of the first head\n",
    "k_layer0_head0 = k_layer0[0]  # [8x128x4096] -> [128x4096]\n",
    "k_layer0_head0.shape"
   ]
  },
  {
   "cell_type": "code",
   "execution_count": 16,
   "metadata": {
    "ExecutionIndicator": {
     "show": false
    },
    "execution": {
     "iopub.execute_input": "2025-02-19T03:41:01.062741Z",
     "iopub.status.busy": "2025-02-19T03:41:01.062503Z",
     "iopub.status.idle": "2025-02-19T03:41:01.070480Z",
     "shell.execute_reply": "2025-02-19T03:41:01.069971Z",
     "shell.execute_reply.started": "2025-02-19T03:41:01.062727Z"
    },
    "tags": []
   },
   "outputs": [
    {
     "data": {
      "text/plain": [
       "torch.Size([17, 128])"
      ]
     },
     "execution_count": 16,
     "metadata": {},
     "output_type": "execute_result"
    }
   ],
   "source": [
    "# Calculate the key vectors corresponding to the inputs of the first head\n",
    "# K0_head0 = XW0_K_head0.T\n",
    "k_per_token = torch.matmul(token_embeddings, k_layer0_head0.T)  # [17x4096] x [4096x128] = [17x128]\n",
    "k_per_token.shape"
   ]
  },
  {
   "cell_type": "markdown",
   "metadata": {},
   "source": [
    "#### Obtain the value vector (almost the same as the key vector)\n",
    "\n",
    "<div>\n",
    "    <img src=\"images/value.png\" width=\"600px\"/>\n",
    "</div>\n",
    "\n",
    "&gt; Similar to the key weights, the value weights are also shared by every 4 attention heads (to save computation).\n",
    "<br>\n",
    "&gt; Therefore, the shape of the value weight matrix is [8x128x4096]."
   ]
  },
  {
   "cell_type": "code",
   "execution_count": 17,
   "metadata": {
    "ExecutionIndicator": {
     "show": false
    },
    "execution": {
     "iopub.execute_input": "2025-02-19T03:41:01.072895Z",
     "iopub.status.busy": "2025-02-19T03:41:01.071097Z",
     "iopub.status.idle": "2025-02-19T03:41:01.076106Z",
     "shell.execute_reply": "2025-02-19T03:41:01.075640Z",
     "shell.execute_reply.started": "2025-02-19T03:41:01.072876Z"
    },
    "tags": []
   },
   "outputs": [
    {
     "data": {
      "text/plain": [
       "torch.Size([8, 128, 4096])"
      ]
     },
     "execution_count": 17,
     "metadata": {},
     "output_type": "execute_result"
    }
   ],
   "source": [
    "# Load and modify the shape of the value weight matrix of layers.0 to expand it in a multi-head form\n",
    "# Similar to the key weight matrix, the value also has 8 attention heads, so the number of parameters is also 1/4 of that of the query matrix\n",
    "v_layer0 = model[\"layers.0.attention.wv.weight\"]  # [1024x4096]\n",
    "v_layer0 = v_layer0.view(n_kv_heads, v_layer0.shape[0] // n_kv_heads, dim)  # [1024x4096] -> [8x128x4096]\n",
    "v_layer0.shape"
   ]
  },
  {
   "cell_type": "code",
   "execution_count": 18,
   "metadata": {
    "ExecutionIndicator": {
     "show": false
    },
    "execution": {
     "iopub.execute_input": "2025-02-19T03:41:01.076762Z",
     "iopub.status.busy": "2025-02-19T03:41:01.076582Z",
     "iopub.status.idle": "2025-02-19T03:41:01.079544Z",
     "shell.execute_reply": "2025-02-19T03:41:01.079141Z",
     "shell.execute_reply.started": "2025-02-19T03:41:01.076747Z"
    },
    "tags": []
   },
   "outputs": [
    {
     "data": {
      "text/plain": [
       "torch.Size([128, 4096])"
      ]
     },
     "execution_count": 18,
     "metadata": {},
     "output_type": "execute_result"
    }
   ],
   "source": [
    "# Extract the weights of the first head\n",
    "v_layer0_head0 = v_layer0[0]  # [8x128x4096] -> [128x4096]\n",
    "v_layer0_head0.shape"
   ]
  },
  {
   "cell_type": "code",
   "execution_count": 19,
   "metadata": {
    "ExecutionIndicator": {
     "show": false
    },
    "execution": {
     "iopub.execute_input": "2025-02-19T03:41:01.080206Z",
     "iopub.status.busy": "2025-02-19T03:41:01.079978Z",
     "iopub.status.idle": "2025-02-19T03:41:01.155627Z",
     "shell.execute_reply": "2025-02-19T03:41:01.155170Z",
     "shell.execute_reply.started": "2025-02-19T03:41:01.080192Z"
    },
    "tags": []
   },
   "outputs": [
    {
     "data": {
      "text/plain": [
       "torch.Size([17, 128])"
      ]
     },
     "execution_count": 19,
     "metadata": {},
     "output_type": "execute_result"
    }
   ],
   "source": [
    "# Calculate the value vectors corresponding to the inputs of the first head\n",
    "# V0_head0 = XW0_V_head0.T\n",
    "v_per_token = torch.matmul(token_embeddings, v_layer0_head0.T)  # [17x4096] x [4096x128] = [17x128]\n",
    "v_per_token.shape"
   ]
  },
  {
   "cell_type": "markdown",
   "metadata": {
    "tags": []
   },
   "source": [
    "### Add positional information to the query and key vectors\n",
    "\n",
    "- For natural language, the sequential relationship and relative positions between words are extremely important. For example, \"The dog bites the man\" and \"The man bites the dog\" have completely different semantic information. Moreover, our intuition also tells us that the correlation between relatively close words is usually greater than that between distant words.\n",
    "- Therefore, we need to provide positional information between tokens during the attention calculation process, so that the model can better capture the dependencies in the sequence.\n",
    "- Why add it to the query and key vectors? Because the query and key vectors are used to calculate the attention weights, i.e., the importance of each token to other tokens. This requires both of them to know the positions and relative positional relationships of any two tokens when calculating the similarity between them.\n",
    "- Why not add it to the value vectors? Because the value vectors are only used for weighted summation. The positional information has already been considered in the interaction between the query and the key. Therefore, the value vectors only need to provide content information.\n",
    "\n",
    "We will use RoPE (Rotary Position Encoding) to add positional information to these vectors."
   ]
  },
  {
   "cell_type": "markdown",
   "metadata": {
    "tags": []
   },
   "source": [
    "#### Rotary Position Encoding (RoPE)\n",
    "\n",
    "You can watch this video to understand its mathematical principles in detail (this is also the one I watched):\n",
    "https://www.youtube.com/watch?v=o29P0Kpobz0&t=530s\n",
    "<br><br>\n",
    "The general idea of RoPE is to regard the vector as being in the complex space, and then generate specific rotation matrix based on positions. By multiplying the vector with the rotation matrix, rotation in the complex space can be achieved, thereby adding the relative position information to the vector. (That is, taking the positional relationship of the input vectors as a rotation at different angles in a complex space.)\n",
    "<br>\n",
    "(Similar to the rotation of planar position coordinates around an axis through the multiplication of trigonometric-function-based matrices in robot kinematics.)\n",
    "<br><br>\n",
    "RoPE is usually applied to the query and key vectors in the self-attention mechanism. When calculating the attention scores, the query and key vectors are first rotated based on the corresponding rotation matrix of RoPE. Then, operations such as dot-product calculation and softmax normalization are performed. In this way, the Transformer can take positional information into account when calculating attentions and better capture the dependencies in the text.\n",
    "\n",
    "<div>\n",
    "    <img src=\"images/rope.png\" width=\"600\"/>\n",
    "</div>\n",
    "<br>\n",
    "\n",
    "<span style=\"font-size: 1.2em; font-weight: bold;\">\n",
    "The specific calculation process of RoPE is as follows:\n",
    "</span>\n",
    "\n",
    "1. Divide the dimensions of each vector into pairs (because the derivation of high-dimensional rotation matrices is complex, and excessively high dimensions will significantly increase the computational complexity, while the formulas for two-dimensional rotation are relatively mature and simple, making them easy to calculate).\n",
    "2. For each pair, obtain $\\Large \\theta=\\frac{1}{rope\\_theta^{i/D}}$, where $i$ is the $i$-th pair and $D$ is the total number of pairs. That is, the positional information of the current dimension pair within the vector.\n",
    "3. For each vector, obtain $\\Large m$, which represents that the vector corresponds to the $m$-th token. That is, the positional information of the current vector within the entire input vectors.\n",
    "4. For each pair, $\\large res=\\begin{pmatrix} \\cos m\\theta & -\\sin m\\theta \\\\ \\sin m\\theta & \\cos m\\theta \\\\ \\end{pmatrix} \\begin{pmatrix} x^0_i \\\\ x^1_i \\\\ \\end{pmatrix}$, where $res$ is the result of rotating the vector pair by $m\\theta$ degrees in the complex space.\n",
    "5. Perform the above calculations on all dimension pairs of all vectors to obtain the final RoPE result.\n",
    "\n",
    "<div>\n",
    "    <img src=\"images/qsplit.png\" width=\"600\"/>\n",
    "</div>\n",
    "<br>\n",
    "\n",
    "<span style=\"font-size: 1.2em; font-weight: bold;\">\n",
    "In the actual code implementation, to simplify the calculation process, the above-mentioned calculation based on the rotation matrix (Step 4) will be converted into a calculation in the complex number domain. The principle is as follows:\n",
    "</span>\n",
    "\n",
    "1. The rectangular coordinates $(x, y)$ can be regarded as the coordinate representation of the complex number $\\large x + yi$ on the complex plane.\n",
    "2. The polar form of a complex number can be expressed as $\\large re^{i\\theta}$, where $r$ is the modulus and $\\theta$ is the angle.\n",
    "3. The multiplication calculation in polar coordinates $\\large r_1e^{i\\theta_1} \\times r_2e^{i\\theta_2} = r_1r_2e^{i(\\theta_1 + \\theta_2)}$ can be regarded as increasing the length of coordinate_1 by $r_2$ times and rotating the angle by $\\theta_2$ degrees.\n",
    "4. Therefore, if you want to rotate the coordinates by $m\\theta$ degrees, you can define a rotation factor $\\large e^{im\\theta}$ with a modulus of 1 and an angle of $m\\theta$. Multiplying it by the coordinates will be equivalent to the rotation method based on the rotation matrix.\n",
    "5. In addition, according to Euler's formula, we have $\\large re^{i\\theta} = r\\cos\\theta + r\\sin{\\theta i} = x + yi$ and $\\large e^{im\\theta} = \\cos{m\\theta} + \\sin{m\\theta i}$.\n",
    "6. Therefore, rotating a two-dimensional coordinate $(x, y)$ by $m\\theta$ degrees can be obtained through $\\large re^{i\\theta^\\prime} \\times e^{im\\theta} = (x + yi) \\times (\\cos{m\\theta} + \\sin{m\\theta i})$ (the product of two complex numbers)."
   ]
  },
  {
   "cell_type": "markdown",
   "metadata": {},
   "source": [
    "#### Add positional information to the query vectors\n",
    "\n",
    "In the following steps, we will first split the query vectors into pairs, and then perform angle rotation on each pair, as shown in the above steps.\n",
    "<br><br>\n",
    "Now we have a vector with a shape of [17x64x2]. This is obtained by splitting the 128-dimensional query vectors corresponding to each token in the prompt into 64 pairs, and each pair will be rotated by $m\\theta$ degrees."
   ]
  },
  {
   "cell_type": "code",
   "execution_count": 20,
   "metadata": {
    "ExecutionIndicator": {
     "show": false
    },
    "execution": {
     "iopub.execute_input": "2025-02-19T03:41:01.156554Z",
     "iopub.status.busy": "2025-02-19T03:41:01.156299Z",
     "iopub.status.idle": "2025-02-19T03:41:01.160093Z",
     "shell.execute_reply": "2025-02-19T03:41:01.159713Z",
     "shell.execute_reply.started": "2025-02-19T03:41:01.156535Z"
    },
    "tags": []
   },
   "outputs": [
    {
     "data": {
      "text/plain": [
       "torch.Size([17, 64, 2])"
      ]
     },
     "execution_count": 20,
     "metadata": {},
     "output_type": "execute_result"
    }
   ],
   "source": [
    "# Split the query vectors in pairs along the dimension direction.\n",
    "# .float() is for switch back to full precision to ensure the precision and numerical stability in the subsequent trigonometric function calculations.\n",
    "# [17x128] -> [17x64x2]\n",
    "q_per_token_split_into_pairs = q_per_token.float().view(q_per_token.shape[0], -1, 2)\n",
    "q_per_token_split_into_pairs.shape"
   ]
  },
  {
   "cell_type": "markdown",
   "metadata": {},
   "source": [
    "<span style=\"font-size: 1.2em; font-weight: normal;\">\n",
    "Start to obtain the complex-domain representation of the rotation matrix.\n",
    "</span>\n",
    "\n",
    "<div>\n",
    "    <img src=\"images/freq_cis.png\" width=\"600\"/>\n",
    "</div>"
   ]
  },
  {
   "cell_type": "code",
   "execution_count": 21,
   "metadata": {
    "ExecutionIndicator": {
     "show": false
    },
    "execution": {
     "iopub.execute_input": "2025-02-19T03:41:01.160946Z",
     "iopub.status.busy": "2025-02-19T03:41:01.160621Z",
     "iopub.status.idle": "2025-02-19T03:41:01.164939Z",
     "shell.execute_reply": "2025-02-19T03:41:01.164560Z",
     "shell.execute_reply.started": "2025-02-19T03:41:01.160931Z"
    },
    "tags": []
   },
   "outputs": [
    {
     "data": {
      "text/plain": [
       "tensor([0.0000, 0.0156, 0.0312, 0.0469, 0.0625, 0.0781, 0.0938, 0.1094, 0.1250,\n",
       "        0.1406, 0.1562, 0.1719, 0.1875, 0.2031, 0.2188, 0.2344, 0.2500, 0.2656,\n",
       "        0.2812, 0.2969, 0.3125, 0.3281, 0.3438, 0.3594, 0.3750, 0.3906, 0.4062,\n",
       "        0.4219, 0.4375, 0.4531, 0.4688, 0.4844, 0.5000, 0.5156, 0.5312, 0.5469,\n",
       "        0.5625, 0.5781, 0.5938, 0.6094, 0.6250, 0.6406, 0.6562, 0.6719, 0.6875,\n",
       "        0.7031, 0.7188, 0.7344, 0.7500, 0.7656, 0.7812, 0.7969, 0.8125, 0.8281,\n",
       "        0.8438, 0.8594, 0.8750, 0.8906, 0.9062, 0.9219, 0.9375, 0.9531, 0.9688,\n",
       "        0.9844])"
      ]
     },
     "execution_count": 21,
     "metadata": {},
     "output_type": "execute_result"
    }
   ],
   "source": [
    "# Calculate θ. Step 1: Obtain i/D.\n",
    "# [64]\n",
    "zero_to_one_split_into_64_parts = torch.tensor(range(64))/64  # Each feature has 64 dimension pairs after segmentation, so 64 θ values are required\n",
    "zero_to_one_split_into_64_parts"
   ]
  },
  {
   "cell_type": "code",
   "execution_count": 22,
   "metadata": {
    "ExecutionIndicator": {
     "show": false
    },
    "execution": {
     "iopub.execute_input": "2025-02-19T03:41:01.165724Z",
     "iopub.status.busy": "2025-02-19T03:41:01.165392Z",
     "iopub.status.idle": "2025-02-19T03:41:01.169158Z",
     "shell.execute_reply": "2025-02-19T03:41:01.168775Z",
     "shell.execute_reply.started": "2025-02-19T03:41:01.165710Z"
    },
    "tags": []
   },
   "outputs": [
    {
     "data": {
      "text/plain": [
       "tensor([1.0000e+00, 8.1462e-01, 6.6360e-01, 5.4058e-01, 4.4037e-01, 3.5873e-01,\n",
       "        2.9223e-01, 2.3805e-01, 1.9392e-01, 1.5797e-01, 1.2869e-01, 1.0483e-01,\n",
       "        8.5397e-02, 6.9566e-02, 5.6670e-02, 4.6164e-02, 3.7606e-02, 3.0635e-02,\n",
       "        2.4955e-02, 2.0329e-02, 1.6560e-02, 1.3490e-02, 1.0990e-02, 8.9523e-03,\n",
       "        7.2927e-03, 5.9407e-03, 4.8394e-03, 3.9423e-03, 3.2114e-03, 2.6161e-03,\n",
       "        2.1311e-03, 1.7360e-03, 1.4142e-03, 1.1520e-03, 9.3847e-04, 7.6450e-04,\n",
       "        6.2277e-04, 5.0732e-04, 4.1327e-04, 3.3666e-04, 2.7425e-04, 2.2341e-04,\n",
       "        1.8199e-04, 1.4825e-04, 1.2077e-04, 9.8381e-05, 8.0143e-05, 6.5286e-05,\n",
       "        5.3183e-05, 4.3324e-05, 3.5292e-05, 2.8750e-05, 2.3420e-05, 1.9078e-05,\n",
       "        1.5542e-05, 1.2660e-05, 1.0313e-05, 8.4015e-06, 6.8440e-06, 5.5752e-06,\n",
       "        4.5417e-06, 3.6997e-06, 3.0139e-06, 2.4551e-06])"
      ]
     },
     "execution_count": 22,
     "metadata": {},
     "output_type": "execute_result"
    }
   ],
   "source": [
    "# Calculate θ. Step 2: Obtain θ.\n",
    "# rope_theta is used to control information such as the periodicity of the position encoding.\n",
    "# For details, please refer to the configuration information section.\n",
    "freqs = 1.0 / (rope_theta ** zero_to_one_split_into_64_parts)  # [64]\n",
    "freqs"
   ]
  },
  {
   "cell_type": "code",
   "execution_count": 23,
   "metadata": {
    "ExecutionIndicator": {
     "show": false
    },
    "execution": {
     "iopub.execute_input": "2025-02-19T03:41:01.169825Z",
     "iopub.status.busy": "2025-02-19T03:41:01.169630Z",
     "iopub.status.idle": "2025-02-19T03:41:01.172142Z",
     "shell.execute_reply": "2025-02-19T03:41:01.171751Z",
     "shell.execute_reply.started": "2025-02-19T03:41:01.169810Z"
    },
    "tags": []
   },
   "outputs": [],
   "source": [
    "# Calculate mθ\n",
    "# 'outer' is for outer product calculation, and 'arange(17)' represents the m corresponding to each vector (since the input has 17 tokens, 17 m values are needed).\n",
    "# The result has a shape of [17x64], meaning that each vector corresponding to a token has 64 mθ values, which are used to calculate the rotation of each of the 64 dimension pairs.\n",
    "freqs_for_each_token = torch.outer(torch.arange(17), freqs)  # [17] & [64] -> [17x64]"
   ]
  },
  {
   "cell_type": "code",
   "execution_count": 24,
   "metadata": {
    "ExecutionIndicator": {
     "show": false
    },
    "execution": {
     "iopub.execute_input": "2025-02-19T03:41:01.172851Z",
     "iopub.status.busy": "2025-02-19T03:41:01.172616Z",
     "iopub.status.idle": "2025-02-19T03:41:01.853781Z",
     "shell.execute_reply": "2025-02-19T03:41:01.853322Z",
     "shell.execute_reply.started": "2025-02-19T03:41:01.172836Z"
    },
    "tags": []
   },
   "outputs": [
    {
     "name": "stdout",
     "output_type": "stream",
     "text": [
      "torch.Size([17, 64])\n"
     ]
    },
    {
     "data": {
      "image/png": "[encoded data removed]",
      "text/plain": [
       "<Figure size 1500x400 with 3 Axes>"
      ]
     },
     "metadata": {},
     "output_type": "display_data"
    },
    {
     "data": {
      "text/plain": [
       "'\\nNote: As shown in the figures, tokens in later positions have larger rotation angles, but within a single token, earlier vector dimensions have larger rotation angles.\\n      You can explore further to see if there are any mathematical reasons behind this if you are interested. X_X\\n'"
      ]
     },
     "execution_count": 24,
     "metadata": {},
     "output_type": "execute_result"
    }
   ],
   "source": [
    "# Obtain (cosmθ + sinmθi), that is, convert mθ to the complex-number form\n",
    "# Regard the rotation angle mθ as a polar-coordinate form with a modulus of 1, and then convert it to a complex-number representation\n",
    "# The two inputs of 'polar' represent the modulus (set to 1, meaning only the angle is changed without affecting the length) and the angle (i.e., mθ) respectively\n",
    "freqs_cis = torch.polar(torch.ones_like(freqs_for_each_token), freqs_for_each_token)  # [17x64] -> [17x64]\n",
    "print(freqs_cis.shape)\n",
    "\n",
    "# View freqs_cis at some positions, just for display\n",
    "token_to_show = [1, 3, 5]  # View the 2nd, 4th, and 6th rows\n",
    "fig, axs = plt.subplots(1, len(token_to_show), figsize=(5 * len(token_to_show), 4))  # Generate a figure window with 3 sub-plots in 1 row and 3 columns\n",
    "for i, index in enumerate(token_to_show):\n",
    "    value = freqs_cis[index]\n",
    "    for j, element in enumerate(value):\n",
    "        # Plot a blue line from the origin to the coordinate point, with the real part as the x-coordinate and the imaginary part as the y-coordinate.\n",
    "        axs[i].plot([0, element.real], [0, element.imag], color='blue', linewidth=1, label=f\"Index: {j}\")\n",
    "        # Draw red numerical annotations to represent the i-th pair of dimensions.\n",
    "        axs[i].annotate(f\"{j}\", xy=(element.real, element.imag), color='red')\n",
    "    axs[i].set_xlabel('Real')\n",
    "    axs[i].set_ylabel('Imaginary')\n",
    "    axs[i].set_title(f'Plot of {index + 1}th of freqs_cis')\n",
    "plt.show()\n",
    "\n",
    "\"\"\"\n",
    "Note: As shown in the figures, tokens in later positions have larger rotation angles, but within a single token, earlier vector dimensions have larger rotation angles.\n",
    "      You can explore further to see if there are any mathematical reasons behind this if you are interested. X_X\n",
    "\"\"\""
   ]
  },
  {
   "cell_type": "markdown",
   "metadata": {},
   "source": [
    "<span style=\"font-size: 1.2em; font-weight: normal;\">\n",
    "Now we have provided a complex number (an angle-changing vector) for each dimension pair of the query vector corresponding to each token.\n",
    "</span>\n",
    "<br><br>\n",
    "Now we can convert our query (the one divided into pairs) into complex numbers and then rotate these queries through dot-product calculation. :)"
   ]
  },
  {
   "cell_type": "code",
   "execution_count": 25,
   "metadata": {
    "ExecutionIndicator": {
     "show": false
    },
    "execution": {
     "iopub.execute_input": "2025-02-19T03:41:01.854537Z",
     "iopub.status.busy": "2025-02-19T03:41:01.854289Z",
     "iopub.status.idle": "2025-02-19T03:41:01.857720Z",
     "shell.execute_reply": "2025-02-19T03:41:01.857315Z",
     "shell.execute_reply.started": "2025-02-19T03:41:01.854521Z"
    },
    "tags": []
   },
   "outputs": [
    {
     "data": {
      "text/plain": [
       "torch.Size([17, 64])"
      ]
     },
     "execution_count": 25,
     "metadata": {},
     "output_type": "execute_result"
    }
   ],
   "source": [
    "# Obtain (x + yi)\n",
    "# That is, convert the dimension pairs into complex numbers. After the conversion, the shape of the dimensions will change from [17x64x2] to [17x64].\n",
    "q_per_token_as_complex_numbers = torch.view_as_complex(q_per_token_split_into_pairs)  # [17x64x2] -> [17x64]\n",
    "q_per_token_as_complex_numbers.shape"
   ]
  },
  {
   "cell_type": "code",
   "execution_count": 26,
   "metadata": {
    "ExecutionIndicator": {
     "show": false
    },
    "execution": {
     "iopub.execute_input": "2025-02-19T03:41:01.858509Z",
     "iopub.status.busy": "2025-02-19T03:41:01.858170Z",
     "iopub.status.idle": "2025-02-19T03:41:01.870671Z",
     "shell.execute_reply": "2025-02-19T03:41:01.870274Z",
     "shell.execute_reply.started": "2025-02-19T03:41:01.858493Z"
    },
    "tags": []
   },
   "outputs": [
    {
     "data": {
      "text/plain": [
       "torch.Size([17, 64])"
      ]
     },
     "execution_count": 26,
     "metadata": {},
     "output_type": "execute_result"
    }
   ],
   "source": [
    "# Calculate (x + yi) * (cosmθ + sinmθi)\n",
    "# That is, perform the rotation operation to obtain the final result.\n",
    "q_per_token_as_complex_numbers_rotated = q_per_token_as_complex_numbers * freqs_cis  # [17x64] * [17x64] = [17x64]\n",
    "q_per_token_as_complex_numbers_rotated.shape"
   ]
  },
  {
   "cell_type": "markdown",
   "metadata": {},
   "source": [
    "<span style=\"font-size: 1.2em; font-weight: normal;\">\n",
    "Obtain the rotated vectors (restore the shape).\n",
    "</span>\n",
    "<br><br>\n",
    "We can represent the complex numbers as real numbers again to obtain the query results in the form of dimension pairs."
   ]
  },
  {
   "cell_type": "code",
   "execution_count": 27,
   "metadata": {
    "ExecutionIndicator": {
     "show": false
    },
    "execution": {
     "iopub.execute_input": "2025-02-19T03:41:01.871345Z",
     "iopub.status.busy": "2025-02-19T03:41:01.871101Z",
     "iopub.status.idle": "2025-02-19T03:41:01.874053Z",
     "shell.execute_reply": "2025-02-19T03:41:01.873675Z",
     "shell.execute_reply.started": "2025-02-19T03:41:01.871320Z"
    },
    "tags": []
   },
   "outputs": [
    {
     "data": {
      "text/plain": [
       "torch.Size([17, 64, 2])"
      ]
     },
     "execution_count": 27,
     "metadata": {},
     "output_type": "execute_result"
    }
   ],
   "source": [
    "# Convert the complex-number results back to the real-number dimension-pair form.\n",
    "q_per_token_split_into_pairs_rotated = torch.view_as_real(q_per_token_as_complex_numbers_rotated)  # [17x64] -> [17x64x2]\n",
    "q_per_token_split_into_pairs_rotated.shape"
   ]
  },
  {
   "cell_type": "markdown",
   "metadata": {},
   "source": [
    "Merge the rotated dimensions. In this way, we obtain a new query vector (the rotated query vector) with a shape of [17x128], where 17 represents the number of tokens and 128 represents the dimension of the query vector."
   ]
  },
  {
   "cell_type": "code",
   "execution_count": 28,
   "metadata": {
    "ExecutionIndicator": {
     "show": false
    },
    "execution": {
     "iopub.execute_input": "2025-02-19T03:41:01.876999Z",
     "iopub.status.busy": "2025-02-19T03:41:01.876752Z",
     "iopub.status.idle": "2025-02-19T03:41:01.879810Z",
     "shell.execute_reply": "2025-02-19T03:41:01.879421Z",
     "shell.execute_reply.started": "2025-02-19T03:41:01.876984Z"
    },
    "tags": []
   },
   "outputs": [
    {
     "data": {
      "text/plain": [
       "torch.Size([17, 128])"
      ]
     },
     "execution_count": 28,
     "metadata": {},
     "output_type": "execute_result"
    }
   ],
   "source": [
    "# Restore the dimension-pair results to the original form of the query vectors, and obtain the final query vector.\n",
    "q_per_token_rotated = q_per_token_split_into_pairs_rotated.view(q_per_token.shape)  # [17x64x2] -> [17x128]\n",
    "q_per_token_rotated.shape"
   ]
  },
  {
   "cell_type": "markdown",
   "metadata": {},
   "source": [
    "#### Add positional information to the key vectors (same as the query)"
   ]
  },
  {
   "cell_type": "code",
   "execution_count": 29,
   "metadata": {
    "ExecutionIndicator": {
     "show": false
    },
    "execution": {
     "iopub.execute_input": "2025-02-19T03:41:01.880555Z",
     "iopub.status.busy": "2025-02-19T03:41:01.880263Z",
     "iopub.status.idle": "2025-02-19T03:41:01.883513Z",
     "shell.execute_reply": "2025-02-19T03:41:01.883060Z",
     "shell.execute_reply.started": "2025-02-19T03:41:01.880539Z"
    },
    "tags": []
   },
   "outputs": [
    {
     "data": {
      "text/plain": [
       "torch.Size([17, 64, 2])"
      ]
     },
     "execution_count": 29,
     "metadata": {},
     "output_type": "execute_result"
    }
   ],
   "source": [
    "# Split the key vectors into pairs along the dimension direction to form dimension pairs (modify the shape).\n",
    "k_per_token_split_into_pairs = k_per_token.float().view(k_per_token.shape[0], -1, 2)  # [17x128] -> [17x64x2]\n",
    "k_per_token_split_into_pairs.shape"
   ]
  },
  {
   "cell_type": "code",
   "execution_count": 30,
   "metadata": {
    "ExecutionIndicator": {
     "show": false
    },
    "execution": {
     "iopub.execute_input": "2025-02-19T03:41:01.884149Z",
     "iopub.status.busy": "2025-02-19T03:41:01.883950Z",
     "iopub.status.idle": "2025-02-19T03:41:01.886941Z",
     "shell.execute_reply": "2025-02-19T03:41:01.886551Z",
     "shell.execute_reply.started": "2025-02-19T03:41:01.884135Z"
    },
    "tags": []
   },
   "outputs": [
    {
     "data": {
      "text/plain": [
       "torch.Size([17, 64])"
      ]
     },
     "execution_count": 30,
     "metadata": {},
     "output_type": "execute_result"
    }
   ],
   "source": [
    "# Obtain (x + yi)\n",
    "# That is, convert the dimension pairs into complex numbers. After the conversion, the shape of the dimensions will change from [17x64x2] to [17x64].\n",
    "k_per_token_as_complex_numbers = torch.view_as_complex(k_per_token_split_into_pairs)  # [17x64x2] -> [17x64]\n",
    "k_per_token_as_complex_numbers.shape"
   ]
  },
  {
   "cell_type": "code",
   "execution_count": 31,
   "metadata": {
    "ExecutionIndicator": {
     "show": false
    },
    "execution": {
     "iopub.execute_input": "2025-02-19T03:41:01.887601Z",
     "iopub.status.busy": "2025-02-19T03:41:01.887406Z",
     "iopub.status.idle": "2025-02-19T03:41:01.890511Z",
     "shell.execute_reply": "2025-02-19T03:41:01.890104Z",
     "shell.execute_reply.started": "2025-02-19T03:41:01.887587Z"
    },
    "tags": []
   },
   "outputs": [
    {
     "data": {
      "text/plain": [
       "torch.Size([17, 64, 2])"
      ]
     },
     "execution_count": 31,
     "metadata": {},
     "output_type": "execute_result"
    }
   ],
   "source": [
    "# Calculate (x + yi) * (cosmθ + sinmθi)\n",
    "# That is, perform the rotation operation to obtain the final result.\n",
    "# And convert the result back to the real-number form.\n",
    "k_per_token_split_into_pairs_rotated = torch.view_as_real(k_per_token_as_complex_numbers * freqs_cis)  # [17x64] * [17x64] = [17x64] -> [17x64x2]\n",
    "k_per_token_split_into_pairs_rotated.shape"
   ]
  },
  {
   "cell_type": "code",
   "execution_count": 32,
   "metadata": {
    "ExecutionIndicator": {
     "show": false
    },
    "execution": {
     "iopub.execute_input": "2025-02-19T03:41:01.891195Z",
     "iopub.status.busy": "2025-02-19T03:41:01.890995Z",
     "iopub.status.idle": "2025-02-19T03:41:01.893972Z",
     "shell.execute_reply": "2025-02-19T03:41:01.893585Z",
     "shell.execute_reply.started": "2025-02-19T03:41:01.891180Z"
    },
    "tags": []
   },
   "outputs": [
    {
     "data": {
      "text/plain": [
       "torch.Size([17, 128])"
      ]
     },
     "execution_count": 32,
     "metadata": {},
     "output_type": "execute_result"
    }
   ],
   "source": [
    "# Restore the dimension-pair results to the original form of the key vectors, and obtain the final key vector.\n",
    "k_per_token_rotated = k_per_token_split_into_pairs_rotated.view(k_per_token.shape)  # [17x64x2] -> [17x128]\n",
    "k_per_token_rotated.shape"
   ]
  },
  {
   "cell_type": "markdown",
   "metadata": {},
   "source": [
    "<span style=\"font-size: 1.2em; font-weight: normal;\">\n",
    "At this stage, we have the rotated query vectors and key vectors corresponding to each token.\n",
    "</span>\n",
    "\n",
    "<div>\n",
    "    <img src=\"images/keys0.png\" width=\"600px\"/>\n",
    "</div>\n",
    "\n",
    "The shape of each query and key vector remains [17x128]."
   ]
  },
  {
   "cell_type": "markdown",
   "metadata": {},
   "source": [
    "### Everything's ready. Let's start calculating the attention weights between tokens.\n",
    "\n",
    "This will involve a three-step process:\n",
    "1. Calculate the attention scores: score = Q x K\n",
    "2. Mask the future tokens: score = mask(score)\n",
    "3. Calculate the attention weights: res = softmax(score)\n",
    "\n",
    "Let's get started! :)"
   ]
  },
  {
   "cell_type": "markdown",
   "metadata": {},
   "source": [
    "#### Multiply the query and key vectors to obtain the attention scores.\n",
    "\n",
    "In this way, we will get the score values between each token and all other tokens.\n",
    "<br>\n",
    "These scores represent how strongly each token's query relates to every other token's key.\n",
    "<br>\n",
    "This is the self-attention!\n",
    "<br>\n",
    "The shape of this attention score matrix (qk_per_token) is [17x17], where 17 is the number of tokens in the input prompt.\n",
    "\n",
    "<div>\n",
    "    <img src=\"images/qkmatmul.png\" width=\"600px\"/>\n",
    "</div>"
   ]
  },
  {
   "cell_type": "code",
   "execution_count": 33,
   "metadata": {
    "ExecutionIndicator": {
     "show": false
    },
    "execution": {
     "iopub.execute_input": "2025-02-19T03:41:01.894632Z",
     "iopub.status.busy": "2025-02-19T03:41:01.894434Z",
     "iopub.status.idle": "2025-02-19T03:41:01.897764Z",
     "shell.execute_reply": "2025-02-19T03:41:01.897353Z",
     "shell.execute_reply.started": "2025-02-19T03:41:01.894617Z"
    },
    "tags": []
   },
   "outputs": [
    {
     "data": {
      "text/plain": [
       "torch.Size([17, 17])"
      ]
     },
     "execution_count": 33,
     "metadata": {},
     "output_type": "execute_result"
    }
   ],
   "source": [
    "# Calculate the attention score\n",
    "# At the same time, perform normalization to prevent the subsequent softmax calculation results from being overly skewed towards 0 or 1,\n",
    "# (the dot-product values may be too large when the dimensions are large),\n",
    "# which could lead to vanishing gradients or exploding gradients, so as to maintain numerical stability.\n",
    "qk_per_token = torch.matmul(q_per_token_rotated, k_per_token_rotated.T)/(head_dim)**0.5  # [17x128] x [128x17] = [17x17]\n",
    "qk_per_token.shape"
   ]
  },
  {
   "cell_type": "markdown",
   "metadata": {
    "tags": []
   },
   "source": [
    "#### Now we must mask the future query-key scores.\n",
    "\n",
    "During the training process of Llama 3, the QK scores of future tokens will be masked.\n",
    "<br>\n",
    "Why? Because during training, we only learn how to use past tokens to predict the current token. If we don't mask future tokens, it will lead to the leakage of prediction information.\n",
    "<br>\n",
    "Therefore, during the inference process, we also need to set the future tokens to 0 (to ensure the logical consistency between the training and inference processes).\n",
    "<br>\n",
    "\n",
    "Of course, if you're as curious as I am about what would happen without masking, you can check the results of the additional experiment I conducted in the last section after you've finished learning. (^_<) \n",
    "\n",
    "<div>\n",
    "    <img src=\"images/mask.png\" width=\"600px\"/>\n",
    "</div>"
   ]
  },
  {
   "cell_type": "code",
   "execution_count": 34,
   "metadata": {
    "ExecutionIndicator": {
     "show": false
    },
    "execution": {
     "iopub.execute_input": "2025-02-19T03:41:01.898455Z",
     "iopub.status.busy": "2025-02-19T03:41:01.898194Z",
     "iopub.status.idle": "2025-02-19T03:41:02.090927Z",
     "shell.execute_reply": "2025-02-19T03:41:02.090267Z",
     "shell.execute_reply.started": "2025-02-19T03:41:01.898441Z"
    },
    "tags": []
   },
   "outputs": [
    {
     "data": {
      "image/png": "[encoded data removed]",
      "text/plain": [
       "<Figure size 640x480 with 2 Axes>"
      ]
     },
     "metadata": {},
     "output_type": "display_data"
    }
   ],
   "source": [
    "# First, take a look at the score matrix before masking\n",
    "def display_qk_heatmap(qk_per_token):\n",
    "    _, ax = plt.subplots()  # Create a figure window\n",
    "\n",
    "    # `imshow` is commonly used to display data in the form of a two-dimensional array or matrix,\n",
    "    # it maps the matrix elements to grayscale or color values, so it can be used to draw heatmaps.\n",
    "    # Convert the tensor back to full precision, then detach it from the computational graph to avoid potential gradient calculation and storage issues.\n",
    "    # Specify to use the 'viridis' color mapping scheme to display the image (blue -> green -> yellow).\n",
    "    im = ax.imshow(qk_per_token.to(float).detach(), cmap='viridis')\n",
    "\n",
    "    # Set the number and labels of the x and y axis ticks to ensure correct one-to-one correspondence.\n",
    "    ax.set_xticks(range(len(prompt_split_as_tokens)))\n",
    "    ax.set_yticks(range(len(prompt_split_as_tokens)))\n",
    "    ax.set_xticklabels(prompt_split_as_tokens)\n",
    "    ax.set_yticklabels(prompt_split_as_tokens)\n",
    "\n",
    "    # Add a color bar on the side.\n",
    "    # Specify `im` to identify the correct color mapping and value range.\n",
    "    # Specify the sub-plot it belongs to as `ax` (if there are multiple sub-plots, it would be `ax = ax[i]`).\n",
    "    ax.figure.colorbar(im, ax=ax)\n",
    "    \n",
    "display_qk_heatmap(qk_per_token)"
   ]
  },
  {
   "cell_type": "code",
   "execution_count": 35,
   "metadata": {
    "ExecutionIndicator": {
     "show": false
    },
    "execution": {
     "iopub.execute_input": "2025-02-19T03:41:02.091787Z",
     "iopub.status.busy": "2025-02-19T03:41:02.091546Z",
     "iopub.status.idle": "2025-02-19T03:41:02.110457Z",
     "shell.execute_reply": "2025-02-19T03:41:02.110004Z",
     "shell.execute_reply.started": "2025-02-19T03:41:02.091771Z"
    },
    "tags": []
   },
   "outputs": [
    {
     "data": {
      "text/plain": [
       "(tensor([[0., -inf, -inf, -inf, -inf, -inf, -inf, -inf, -inf, -inf, -inf, -inf, -inf, -inf, -inf, -inf, -inf],\n",
       "         [0., 0., -inf, -inf, -inf, -inf, -inf, -inf, -inf, -inf, -inf, -inf, -inf, -inf, -inf, -inf, -inf],\n",
       "         [0., 0., 0., -inf, -inf, -inf, -inf, -inf, -inf, -inf, -inf, -inf, -inf, -inf, -inf, -inf, -inf],\n",
       "         [0., 0., 0., 0., -inf, -inf, -inf, -inf, -inf, -inf, -inf, -inf, -inf, -inf, -inf, -inf, -inf],\n",
       "         [0., 0., 0., 0., 0., -inf, -inf, -inf, -inf, -inf, -inf, -inf, -inf, -inf, -inf, -inf, -inf],\n",
       "         [0., 0., 0., 0., 0., 0., -inf, -inf, -inf, -inf, -inf, -inf, -inf, -inf, -inf, -inf, -inf],\n",
       "         [0., 0., 0., 0., 0., 0., 0., -inf, -inf, -inf, -inf, -inf, -inf, -inf, -inf, -inf, -inf],\n",
       "         [0., 0., 0., 0., 0., 0., 0., 0., -inf, -inf, -inf, -inf, -inf, -inf, -inf, -inf, -inf],\n",
       "         [0., 0., 0., 0., 0., 0., 0., 0., 0., -inf, -inf, -inf, -inf, -inf, -inf, -inf, -inf],\n",
       "         [0., 0., 0., 0., 0., 0., 0., 0., 0., 0., -inf, -inf, -inf, -inf, -inf, -inf, -inf],\n",
       "         [0., 0., 0., 0., 0., 0., 0., 0., 0., 0., 0., -inf, -inf, -inf, -inf, -inf, -inf],\n",
       "         [0., 0., 0., 0., 0., 0., 0., 0., 0., 0., 0., 0., -inf, -inf, -inf, -inf, -inf],\n",
       "         [0., 0., 0., 0., 0., 0., 0., 0., 0., 0., 0., 0., 0., -inf, -inf, -inf, -inf],\n",
       "         [0., 0., 0., 0., 0., 0., 0., 0., 0., 0., 0., 0., 0., 0., -inf, -inf, -inf],\n",
       "         [0., 0., 0., 0., 0., 0., 0., 0., 0., 0., 0., 0., 0., 0., 0., -inf, -inf],\n",
       "         [0., 0., 0., 0., 0., 0., 0., 0., 0., 0., 0., 0., 0., 0., 0., 0., -inf],\n",
       "         [0., 0., 0., 0., 0., 0., 0., 0., 0., 0., 0., 0., 0., 0., 0., 0., 0.]]),\n",
       " torch.Size([17, 17]))"
      ]
     },
     "execution_count": 35,
     "metadata": {},
     "output_type": "execute_result"
    }
   ],
   "source": [
    "# Generate the masking matrix\n",
    "# Set the positions of the elements to be masked to negative infinity, and set the positions that do not need to be masked to 0.\n",
    "# Then, add it to the score matrix to achieve the masking effect (negative infinity will tend to 0 when calculating the softmax).\n",
    "\n",
    "# `torch.full` is used to generate a tensor with a specified shape and filling value.\n",
    "# Here, a [17x17] matrix filled with negative infinity is first generated.\n",
    "# Specify that the device of this matrix is the same as that of the previous tokens to ensure that there are no errors in subsequent calculations,\n",
    "# for example, if the previous tokens are on the GPU and the device is not specified here, the `mask` will be newly created on the CPU, and an error will occur when adding the two.\n",
    "mask = torch.full((len(tokens), len(tokens)), float(\"-inf\"), device=tokens.device)  # [17x17]\n",
    "\n",
    "# `torch.triu` is used to return the upper-triangular part of the matrix, and set the rest to 0 (use `torch.tril` to get the lower-triangular part).\n",
    "# `diagonal` is the offset of the diagonal. When it's 1, it means taking the upper-triangular part starting from 1 position above the main diagonal to avoid masking the token itself.\n",
    "mask = torch.triu(mask, diagonal=1)  # [17x17]\n",
    "\n",
    "mask, mask.shape"
   ]
  },
  {
   "cell_type": "code",
   "execution_count": 36,
   "metadata": {
    "ExecutionIndicator": {
     "show": false
    },
    "execution": {
     "iopub.execute_input": "2025-02-19T03:41:02.153895Z",
     "iopub.status.busy": "2025-02-19T03:41:02.110941Z",
     "iopub.status.idle": "2025-02-19T03:41:02.335311Z",
     "shell.execute_reply": "2025-02-19T03:41:02.334857Z",
     "shell.execute_reply.started": "2025-02-19T03:41:02.153877Z"
    },
    "tags": []
   },
   "outputs": [
    {
     "data": {
      "image/png": "[encoded data removed]",
      "text/plain": [
       "<Figure size 640x480 with 2 Axes>"
      ]
     },
     "metadata": {},
     "output_type": "display_data"
    }
   ],
   "source": [
    "# Mask the scores of future tokens\n",
    "qk_per_token_after_masking = qk_per_token + mask  # [17x17] + [17x17] = [17x17]\n",
    "display_qk_heatmap(qk_per_token_after_masking)  # Display the attention scores after masking"
   ]
  },
  {
   "cell_type": "markdown",
   "metadata": {},
   "source": [
    "#### Calculate the final attention weights, that is, softmax(score).\n",
    "<div>\n",
    "    <img src=\"images/softmax.png\" width=\"600px\"/>\n",
    "</div>"
   ]
  },
  {
   "cell_type": "code",
   "execution_count": 37,
   "metadata": {
    "ExecutionIndicator": {
     "show": false
    },
    "execution": {
     "iopub.execute_input": "2025-02-19T03:41:02.336060Z",
     "iopub.status.busy": "2025-02-19T03:41:02.335841Z",
     "iopub.status.idle": "2025-02-19T03:41:02.527296Z",
     "shell.execute_reply": "2025-02-19T03:41:02.526827Z",
     "shell.execute_reply.started": "2025-02-19T03:41:02.336044Z"
    },
    "tags": []
   },
   "outputs": [
    {
     "data": {
      "image/png": "[encoded data removed]",
      "text/plain": [
       "<Figure size 640x480 with 2 Axes>"
      ]
     },
     "metadata": {},
     "output_type": "display_data"
    }
   ],
   "source": [
    "# Calculate the attention weights\n",
    "# That is, calculate the softmax values of the scores.\n",
    "# `dim = 1` indicates that the softmax calculation is performed row-by-row, and the result is converted to half-precision to be consistent with the subsequent value vectors.\n",
    "qk_per_token_after_masking_after_softmax = torch.nn.functional.softmax(qk_per_token_after_masking, dim=1).to(torch.bfloat16)  # [17x17] -> [17x17]\n",
    "display_qk_heatmap(qk_per_token_after_masking_after_softmax)"
   ]
  },
  {
   "cell_type": "markdown",
   "metadata": {},
   "source": [
    "### Finally! Calculate the final result of the single-head attention mechanism!\n",
    "<div>\n",
    "    <img src=\"images/attention.png\" width=\"600px\"/>\n",
    "</div>\n",
    "\n",
    "Principle: The previous attention weights (ranging from 0 to 1) are used to determine what proportion of each value vector should be used for each token (i.e., to weight the value vectors).\n",
    "\n",
    "Example: If the input consists of 3 tokens, the attention result of the first token might be: res = 0.6 * value_1 + 0.3 * value_2 + 0.1 * value_3\n",
    "\n",
    "The shape of the attention result after the multiplication of the weight matrix and the value matrix is [17x128]."
   ]
  },
  {
   "cell_type": "code",
   "execution_count": 38,
   "metadata": {
    "ExecutionIndicator": {
     "show": false
    },
    "execution": {
     "iopub.execute_input": "2025-02-19T03:41:02.528063Z",
     "iopub.status.busy": "2025-02-19T03:41:02.527840Z",
     "iopub.status.idle": "2025-02-19T03:41:02.544446Z",
     "shell.execute_reply": "2025-02-19T03:41:02.536098Z",
     "shell.execute_reply.started": "2025-02-19T03:41:02.528047Z"
    },
    "tags": []
   },
   "outputs": [
    {
     "data": {
      "text/plain": [
       "torch.Size([17, 128])"
      ]
     },
     "execution_count": 38,
     "metadata": {},
     "output_type": "execute_result"
    }
   ],
   "source": [
    "# Calculate the final result of the single-head attention\n",
    "qkv_attention = torch.matmul(qk_per_token_after_masking_after_softmax, v_per_token)  # [17x17] x [17x128] = [17x128]\n",
    "qkv_attention.shape"
   ]
  },
  {
   "cell_type": "markdown",
   "metadata": {
    "tags": []
   },
   "source": [
    "## Calculate the multi-head attention mechanism (a simple loop to repeat the above process)\n",
    "<div>\n",
    "    <img src=\"images/heads.png\" width=\"600px\"/>\n",
    "</div>\n",
    "\n",
    "We now have the attention values for the first head of the first layer.\n",
    "<br>\n",
    "\n",
    "Now we need to run a loop to perform exactly the same mathematical process as in the previous cell, but for each head in the first layer.\n",
    "<br><br>\n",
    "\n",
    "<span style=\"font-size: 1.2em; font-weight: bold;\">\n",
    "It's worth noting that in the <a href=\"https://github.com/meta-llama/llama3/blob/main/llama/model.py#L90\">official Llama3 code implementation</a>, the multi-head attention calculation adopts the method of one-time matrix multiplication instead of time consuming for-loop calculations. The general process is as follows:\n",
    "</span>\n",
    "\n",
    "1. Based on matrix parallelism, calculate the QKV vectors: [17x4096] x [4096x4096] or [4096x1024] = [17x4096] or [17x1024], and then reshape them to [32x17x128] or [8x17x128].\n",
    "2. After obtaining the QKV vectors, duplicate the internal parts of the K and V vectors to make their shapes consistent with the Q vector. At this time, the shapes of all of them are [32x17x128].\n",
    "3. When calculating the scores, use the transpose method to exchange the positions of the last two dimensions of the tensors to complete the matrix multiplication. For example, `torch.matmul(q, k.transpose(1,2)) / head_dim ** 0.5`. At this time, it is [32x17x128] x [32x128x17] = [32x17x17].\n",
    "4. The same principle applies to other matrix calculations.\n",
    "<br>\n",
    "\n",
    "Note: The matrix shape changes in each step of the above process are simplified versions, only for illustration to facilitate understanding, which are different from the change process in the official Llama3 implementation (the official implementation involves a large number of shape change processes). "
   ]
  },
  {
   "cell_type": "markdown",
   "metadata": {},
   "source": [
    "### Calculate the result for each head"
   ]
  },
  {
   "cell_type": "code",
   "execution_count": 39,
   "metadata": {
    "ExecutionIndicator": {
     "show": false
    },
    "execution": {
     "iopub.execute_input": "2025-02-19T03:41:02.552149Z",
     "iopub.status.busy": "2025-02-19T03:41:02.551916Z",
     "iopub.status.idle": "2025-02-19T03:41:02.861600Z",
     "shell.execute_reply": "2025-02-19T03:41:02.860927Z",
     "shell.execute_reply.started": "2025-02-19T03:41:02.552133Z"
    },
    "tags": []
   },
   "outputs": [
    {
     "data": {
      "text/plain": [
       "32"
      ]
     },
     "execution_count": 39,
     "metadata": {},
     "output_type": "execute_result"
    }
   ],
   "source": [
    "# Calculate the multi-head attention results\n",
    "# That is, a loop of the previous single-head attention calculation process\n",
    "qkv_attention_store = []\n",
    "\n",
    "for head in range(n_heads):\n",
    "    # Extract the QKV weight matrices corresponding to the current head\n",
    "    q_layer0_head = q_layer0[head]  # [32x128x4096] -> [128x4096]\n",
    "    k_layer0_head = k_layer0[head//4]  # Every 4 heads share one key weight, [8x128x4096] -> [128x4096]\n",
    "    v_layer0_head = v_layer0[head//4]  # Every 4 heads share one value weight, [8x128x4096] -> [128x4096]\n",
    "    \n",
    "    # Calculate XW to obtain the QKV vectors\n",
    "    # [17x4096] x [4096x128] = [17x128]\n",
    "    q_per_token = torch.matmul(token_embeddings, q_layer0_head.T)\n",
    "    k_per_token = torch.matmul(token_embeddings, k_layer0_head.T)\n",
    "    v_per_token = torch.matmul(token_embeddings, v_layer0_head.T)\n",
    "    \n",
    "    # Add position information to the query vector (RoPE)\n",
    "    q_per_token_split_into_pairs = q_per_token.float().view(q_per_token.shape[0], -1, 2)  # Divide vector into pairs along the dimensions direction to form dimension pairs. [17x128] -> [17x64x2]\n",
    "    q_per_token_as_complex_numbers = torch.view_as_complex(q_per_token_split_into_pairs)  # Convert to complex number representation, (x,y) -> (x+yi). [17x64x2] -> [17x64]\n",
    "    q_per_token_as_complex_numbers_rotated = q_per_token_as_complex_numbers * freqs_cis[:len(tokens)]  # Calculate (x+yi)*(cosmθ+sinmθi) to complete the rotation operation. [17x64] * [17x64] = [17x64]\n",
    "    q_per_token_split_into_pairs_rotated = torch.view_as_real(q_per_token_as_complex_numbers_rotated)  # Convert the result back to real number representation, (x+yi) -> (x,y). [17x64] -> [17x64x2]\n",
    "    q_per_token_rotated = q_per_token_split_into_pairs_rotated.view(q_per_token.shape)  # Convert the result back to the original vector shape to obtain the final query vector. [17x64x2] -> [17x128]\n",
    "\n",
    "    # Add position information to the key vector (RoPE)\n",
    "    k_per_token_split_into_pairs = k_per_token.float().view(k_per_token.shape[0], -1, 2)  # Divide vector into pairs along the dimensions direction to form dimension pairs. [17x128] -> [17x64x2]\n",
    "    k_per_token_as_complex_numbers = torch.view_as_complex(k_per_token_split_into_pairs)  # Convert to complex number representation, (x,y) -> (x+yi). [17x64x2] -> [17x64]\n",
    "    k_per_token_as_complex_numbers_rotated = k_per_token_as_complex_numbers * freqs_cis[:len(tokens)]  # Calculate (x+yi)*(cosmθ+sinmθi) to complete the rotation operation. [17x64] * [17x64] = [17x64]\n",
    "    k_per_token_split_into_pairs_rotated = torch.view_as_real(k_per_token_as_complex_numbers_rotated)  # Convert the result back to real number representation, (x+yi) -> (x,y). [17x64] -> [17x64x2]\n",
    "    k_per_token_rotated = k_per_token_split_into_pairs_rotated.view(k_per_token.shape)  # Convert the result back to the original vector shape to obtain the final key vector. [17x64x2] -> [17x128]\n",
    "\n",
    "    # Calculate the attention scores and normalize the scores simultaneously (i.e., Q×K/sqrt(dim))\n",
    "    qk_per_token = torch.matmul(q_per_token_rotated, k_per_token_rotated.T)/(head_dim)**0.5  # [17x128] x [128x17] = [17x17]\n",
    "    \n",
    "    # Mask the scores of future tokens\n",
    "    mask = torch.full(qk_per_token.shape, float(\"-inf\"), device=tokens.device)  # Create a matrix with the same shape as the attention scores, filled with negative infinity, and stored in the same device as other vectors to prevent errors in subsequent calculations. [17x17]\n",
    "    mask = torch.triu(mask, diagonal=1)  # Keep the negative infinity in the upper-triangular part and set others to 0 (i.e., the upper-triangular area represents future tokens that need to be masked). The diagonal offset is 1 to avoid masking the token itself. [17x17]\n",
    "    qk_per_token_after_masking = qk_per_token + mask  # Add the attention scores with the masking matrix, making the upper-triangular part of the score matrix become negative infinity, which will tend to 0 after the subsequent softmax operation. [17x17]\n",
    "    \n",
    "    # Calculate the attention weights (i.e., softmax(score))\n",
    "    # Meanwhile, convert it back to half-precision (because it will be multiplied with the value vector v_per_token later, so the data types need to be the same).\n",
    "    qk_per_token_after_masking_after_softmax = torch.nn.functional.softmax(qk_per_token_after_masking, dim=1).to(torch.bfloat16)  # Calculate the softmax row-by-row. [17x17]\n",
    "    \n",
    "    # Calculate the final result of the attention mechanism (i.e., softmax(score) × V)\n",
    "    qkv_attention = torch.matmul(qk_per_token_after_masking_after_softmax, v_per_token)  # [17x17] × [17x128] = [17x128]\n",
    "    \n",
    "    # Record the result of this head\n",
    "    qkv_attention_store.append(qkv_attention)\n",
    "\n",
    "len(qkv_attention_store)"
   ]
  },
  {
   "cell_type": "markdown",
   "metadata": {},
   "source": [
    "### Merge the results of each head into a large matrix\n",
    "\n",
    "<div>\n",
    "    <img src=\"images/stacked.png\" width=\"600px\"/>\n",
    "</div>\n",
    "Now we have the results of the attention mechanism for all 32 heads in the first layer. Next, we'll merge all the attention values into a large matrix with a shape of [17x4096].\n",
    "<br>\n",
    "We're almost done with the calculation of the attention layer :)"
   ]
  },
  {
   "cell_type": "code",
   "execution_count": 40,
   "metadata": {
    "ExecutionIndicator": {
     "show": false
    },
    "execution": {
     "iopub.execute_input": "2025-02-19T03:41:02.862455Z",
     "iopub.status.busy": "2025-02-19T03:41:02.862192Z",
     "iopub.status.idle": "2025-02-19T03:41:02.865741Z",
     "shell.execute_reply": "2025-02-19T03:41:02.865270Z",
     "shell.execute_reply.started": "2025-02-19T03:41:02.862438Z"
    },
    "tags": []
   },
   "outputs": [
    {
     "data": {
      "text/plain": [
       "torch.Size([17, 4096])"
      ]
     },
     "execution_count": 40,
     "metadata": {},
     "output_type": "execute_result"
    }
   ],
   "source": [
    "# Merge the multi-head attention matrices\n",
    "stacked_qkv_attention = torch.cat(qkv_attention_store, dim=-1)  # Concatenate along the second dimension, 32x[17x128] -> [17x4096]\n",
    "stacked_qkv_attention.shape"
   ]
  },
  {
   "cell_type": "markdown",
   "metadata": {
    "tags": []
   },
   "source": [
    "### Head-to-head information interaction (linear mapping), the final step of the self-attention layer!\n",
    "<div>\n",
    "    <img src=\"images/weightmatrix.png\" width=\"600px\"/>\n",
    "</div>\n",
    "The last step of the attention calculation for layer0 is to perform the final linear mapping, that is, multiply the combined attention matrix by the output weight matrix."
   ]
  },
  {
   "cell_type": "code",
   "execution_count": 41,
   "metadata": {
    "ExecutionIndicator": {
     "show": false
    },
    "execution": {
     "iopub.execute_input": "2025-02-19T03:41:02.866476Z",
     "iopub.status.busy": "2025-02-19T03:41:02.866202Z",
     "iopub.status.idle": "2025-02-19T03:41:02.869208Z",
     "shell.execute_reply": "2025-02-19T03:41:02.868783Z",
     "shell.execute_reply.started": "2025-02-19T03:41:02.866460Z"
    },
    "tags": []
   },
   "outputs": [
    {
     "data": {
      "text/plain": [
       "torch.Size([4096, 4096])"
      ]
     },
     "execution_count": 41,
     "metadata": {},
     "output_type": "execute_result"
    }
   ],
   "source": [
    "# Load the output weight matrix of layers.0\n",
    "w_layer0 = model[\"layers.0.attention.wo.weight\"]  # [4096x4096]\n",
    "w_layer0.shape"
   ]
  },
  {
   "cell_type": "markdown",
   "metadata": {},
   "source": [
    "This is just a simple linear layer, so we only need matrix multiplication."
   ]
  },
  {
   "cell_type": "code",
   "execution_count": 42,
   "metadata": {
    "ExecutionIndicator": {
     "show": false
    },
    "execution": {
     "iopub.execute_input": "2025-02-19T03:41:02.869973Z",
     "iopub.status.busy": "2025-02-19T03:41:02.869678Z",
     "iopub.status.idle": "2025-02-19T03:41:02.957778Z",
     "shell.execute_reply": "2025-02-19T03:41:02.957115Z",
     "shell.execute_reply.started": "2025-02-19T03:41:02.869958Z"
    },
    "tags": []
   },
   "outputs": [
    {
     "data": {
      "text/plain": [
       "torch.Size([17, 4096])"
      ]
     },
     "execution_count": 42,
     "metadata": {},
     "output_type": "execute_result"
    }
   ],
   "source": [
    "# Perform the linear mapping of the attention matrix\n",
    "# This is the final output of the attention layer\n",
    "embedding_delta = torch.matmul(stacked_qkv_attention, w_layer0.T)  # [17x4096] x [4096x4096] = [17x4096]\n",
    "embedding_delta.shape"
   ]
  },
  {
   "cell_type": "markdown",
   "metadata": {},
   "source": [
    "## Perform the residual operation (add)\n",
    "\n",
    "<div>\n",
    "    <img src=\"images/afterattention.png\" width=\"600px\"/>\n",
    "</div>\n",
    "Now we have the value of the input vector after the attention mechanism is applied. At this time, we need to add the original input vector to it (i.e., the residual operation, to ensure that information is not easily lost and alleviate the problem of gradient vanishing)."
   ]
  },
  {
   "cell_type": "code",
   "execution_count": 43,
   "metadata": {
    "ExecutionIndicator": {
     "show": false
    },
    "execution": {
     "iopub.execute_input": "2025-02-19T03:41:02.959020Z",
     "iopub.status.busy": "2025-02-19T03:41:02.958528Z",
     "iopub.status.idle": "2025-02-19T03:41:03.054169Z",
     "shell.execute_reply": "2025-02-19T03:41:02.966917Z",
     "shell.execute_reply.started": "2025-02-19T03:41:02.958997Z"
    },
    "tags": []
   },
   "outputs": [
    {
     "data": {
      "text/plain": [
       "torch.Size([17, 4096])"
      ]
     },
     "execution_count": 43,
     "metadata": {},
     "output_type": "execute_result"
    }
   ],
   "source": [
    "# Add the output of the attention layer to the original input to complete the residual operation\n",
    "embedding_after_edit = token_embeddings_unnormalized + embedding_delta  # [17x4096] + [17x4096] = [17x4096]\n",
    "embedding_after_edit.shape"
   ]
  },
  {
   "cell_type": "markdown",
   "metadata": {},
   "source": [
    "## Perform the second normalization operation\n",
    "<div>\n",
    "    <img src=\"images/norm_after.png\" width=\"600px\"/>\n",
    "</div>"
   ]
  },
  {
   "cell_type": "code",
   "execution_count": 44,
   "metadata": {
    "ExecutionIndicator": {
     "show": false
    },
    "execution": {
     "iopub.execute_input": "2025-02-19T03:41:03.055063Z",
     "iopub.status.busy": "2025-02-19T03:41:03.054817Z",
     "iopub.status.idle": "2025-02-19T03:41:03.156147Z",
     "shell.execute_reply": "2025-02-19T03:41:03.155560Z",
     "shell.execute_reply.started": "2025-02-19T03:41:03.055043Z"
    },
    "tags": []
   },
   "outputs": [
    {
     "data": {
      "text/plain": [
       "torch.Size([17, 4096])"
      ]
     },
     "execution_count": 44,
     "metadata": {},
     "output_type": "execute_result"
    }
   ],
   "source": [
    "# Normalize the result of the residual operation\n",
    "embedding_after_edit_normalized = rms_norm(embedding_after_edit, model[\"layers.0.ffn_norm.weight\"])  # [17x4096] & [4096] -> [17x4096]\n",
    "embedding_after_edit_normalized.shape"
   ]
  },
  {
   "cell_type": "markdown",
   "metadata": {},
   "source": [
    "## Perform the calculation of the FFN (Feed-Forward Neural Network) layer\n",
    "<div>\n",
    "    <img src=\"images/swiglu.png\" width=\"600px\"/>\n",
    "</div>\n",
    "<br>\n",
    "In Llama3, they used the SwiGLU feed-forward network. This network architecture can effectively increase nonlinear characteristics when the model needs.\n",
    "<br>\n",
    "Nowadays, this kind of feed-forward network architecture is very common in large language models.\n",
    "<br><br>\n",
    "\n",
    "<span style=\"font-size: 1.2em; font-weight: bold;\">Why Introduce Nonlinear Layers:</span>\n",
    "<br>\n",
    "\n",
    "- The Nonlinearity is at the core of why neural network models can be considered \"universal function approximators\". In traditional neural network models, we use nonlinear activation functions (such as sigmoid, ReLU, etc.) to increase the model's expressive power, enabling it to fit the complex patterns hidden in the training data.\n",
    "- However, in the Transformer, the attention mechanism is essentially a linear weighted sum of the value vectors (even though the weights are obtained through nonlinear calculation of the softmax function, it's still just a linear weighting for the values). Therefore, although it can capture global dependencies, its output is still only a linear combination of the input. At this time, the Transformer model is actually lacks nonlinear capabilities.\n",
    "- So, it is necessary to add an FFN network after the self-attention layer to introduce nonlinear transformation capabilities to the model, thus improving the model's ability to model complex semantic relationships.\n",
    "<br>\n",
    "\n",
    "<span style=\"font-size: 1.2em; font-weight: bold;\">Generally, introducing nonlinear layers can play the following roles:</span>\n",
    "\n",
    "1. Add nonlinear capabilities to the model to facilitate the model's learning and training.\n",
    "2. Enhance the model's information abstraction ability, enabling the model to represent data features and patterns at different levels during the layer-by-layer learning process. For example, the lower-layer networks can identify basic language structures (such as part-of-speech), while the higher-layer networks can understand more complex semantic information (such as sentiment, intention).\n",
    "3. In addition, a current view holds that the attention layer is mainly used for input context interaction, while the FFN layer is where the LLMs mainly stores and remembers general knowledge during training (given to its nonlinear representation ability), so that it can find answers to input questions from general knowledge.\n",
    "<br><br>\n",
    "\n",
    "<span style=\"font-size: 1.5em; font-weight: bold;\">SwiGLU Network Structure:</span>\n",
    "\n",
    "1. Perform a linear transformation on the input: $X^\\prime = XW_3$\n",
    "2. Gating unit: $GATE = Activation\\_Function(XW_1)$, which is used to selectively pass information. That is, assuming that the information in $X^\\prime$ has different importance, so the information should be weighted and passed based on the score of the gating unit, thus improving the expressive ability of the model.\n",
    "3. The activation function used is a Swish activation function (hence the network is called SwiGLU, which is a combination of the Swish activation function and the Gated Linear Unit (GLU)). The formula is: $Swish = X \\cdot \\sigma(\\beta X)$, where $\\sigma$ is the sigmoid activation function. In SwiGLU, $\\beta$ is set to 1 (in the original formula, it is a learnable parameter).\n",
    "4. Therefore, the specific calculation of the gating unit is: $GATE = XW_1 \\cdot \\sigma(XW_1)$. In PyTorch, this activation function is called silu, that is $GATE = silu(XW_1)$.\n",
    "5. Application of the gating mechanism: $X^\\prime = X^\\prime \\cdot GATE$\n",
    "6. Perform a linear transformation again: $Y = X^\\prime W_2$\n",
    "<br><br>\n",
    "\n",
    "<span style=\"font-size: 1.5em; font-weight: bold;\">Calculation of the Dimension Size of the Hidden Layer in the Feed-Forward Layer (Based on the Official Implementation Process of Llama3):</span>\n",
    "\n",
    "1. Input dimension is dim = 4096\n",
    "2. hidden_dim = 4 * dim = 16384  # First, magnify it by four times. When initializing the feed-forward layer in the Transformer block, the input hidden_dim is multiplied by four.\n",
    "3. hidden_dim = int(2 * hidden_dim / 3) = 10922 # Then, magnify it by 2/3 times. Such scaling is first performed within the feed-forward layer.\n",
    "4. hidden_dim = int(ffn_dim_multiplier * hidden_dim) = int(1.3 * 10922) = 14198  # Then, magnify it by ffn_dim_multiplier times. The ffn_dim_multiplier is defined as 1.3 in the model configuration file.\n",
    "5. hidden_dim = multiple_of * ((hidden_dim + multiple_of - 1) // multiple_of) = 1024 * ((14198 + 1024 - 1) // 1024) = 14336  # Adjust it to an integer multiple of multiple_of. The multiple_of is defined as 1024 in the model configuration file to ensure that the dimensions of all hidden layers in the model are multiples of 1024, so as to improve the computational efficiency.\n",
    "6. Finally, we get the dimension size of the hidden layer is 14336."
   ]
  },
  {
   "cell_type": "code",
   "execution_count": 45,
   "metadata": {
    "ExecutionIndicator": {
     "show": false
    },
    "execution": {
     "iopub.execute_input": "2025-02-19T03:41:03.157034Z",
     "iopub.status.busy": "2025-02-19T03:41:03.156793Z",
     "iopub.status.idle": "2025-02-19T03:41:03.363292Z",
     "shell.execute_reply": "2025-02-19T03:41:03.362597Z",
     "shell.execute_reply.started": "2025-02-19T03:41:03.157014Z"
    },
    "tags": []
   },
   "outputs": [
    {
     "name": "stdout",
     "output_type": "stream",
     "text": [
      "torch.Size([14336, 4096]) torch.Size([14336, 4096]) torch.Size([4096, 14336])\n"
     ]
    },
    {
     "data": {
      "text/plain": [
       "torch.Size([17, 4096])"
      ]
     },
     "execution_count": 45,
     "metadata": {},
     "output_type": "execute_result"
    }
   ],
   "source": [
    "# Calculate the feed-forward network layer\n",
    "# The dimension size of the hidden layer is 14336\n",
    "w1 = model[\"layers.0.feed_forward.w1.weight\"]  # [14336x4096]\n",
    "w3 = model[\"layers.0.feed_forward.w3.weight\"]  # [14336x4096]\n",
    "w2 = model[\"layers.0.feed_forward.w2.weight\"]  # [4096x14336]\n",
    "print(w1.shape, w3.shape, w2.shape)\n",
    "\n",
    "# output = (silu(XW1) * XW3)W2\n",
    "# [17x4096] x [4096x14336] x [14336x4096] = [17x4096]\n",
    "output_after_feedforward = torch.matmul(torch.functional.F.silu(torch.matmul(embedding_after_edit_normalized, w1.T)) * torch.matmul(embedding_after_edit_normalized, w3.T), w2.T)\n",
    "output_after_feedforward.shape"
   ]
  },
  {
   "cell_type": "markdown",
   "metadata": {
    "tags": []
   },
   "source": [
    "## Perform the residual operation again (Finally, we get the final output of the Transformer block!)"
   ]
  },
  {
   "cell_type": "code",
   "execution_count": 46,
   "metadata": {
    "ExecutionIndicator": {
     "show": false
    },
    "execution": {
     "iopub.execute_input": "2025-02-19T03:41:03.364210Z",
     "iopub.status.busy": "2025-02-19T03:41:03.363963Z",
     "iopub.status.idle": "2025-02-19T03:41:03.455919Z",
     "shell.execute_reply": "2025-02-19T03:41:03.455374Z",
     "shell.execute_reply.started": "2025-02-19T03:41:03.364193Z"
    },
    "tags": []
   },
   "outputs": [
    {
     "data": {
      "text/plain": [
       "torch.Size([17, 4096])"
      ]
     },
     "execution_count": 46,
     "metadata": {},
     "output_type": "execute_result"
    }
   ],
   "source": [
    "# Add the output of the feed-forward layer to the original input to complete the residual operation\n",
    "# This is the final result of a Transformer block\n",
    "layer_0_embedding = embedding_after_edit+output_after_feedforward  # [17x4096] + [17x4096] = [17x4096]\n",
    "layer_0_embedding.shape"
   ]
  },
  {
   "cell_type": "markdown",
   "metadata": {
    "tags": []
   },
   "source": [
    "<span style=\"font-size: 1.5em; font-weight: normal;\">\n",
    "Finally, we have the new embeddings of each token after passing through the first layer.\n",
    "</span>\n",
    "<br><br>\n",
    "There are only 31 layers left to complete (just one for loop away).\n",
    "<br>\n",
    "You can imagine that this processed embedding contains all the information of the tokens proposed in the first layer.\n",
    "<br>\n",
    "Now, each layer will encode more complex queries in the asked question. Until the end, we will get an embedding that knows all the information about the next token we need."
   ]
  },
  {
   "cell_type": "markdown",
   "metadata": {
    "tags": []
   },
   "source": [
    "# Everything is here. Let's complete the calculation of all 32 Transformer blocks. Happy reading :)\n",
    "<div>\n",
    "    <img src=\"images/god.png\" width=\"600px\"/>\n",
    "</div>\n",
    "\n",
    "Yes, that's it. All the work we've done before will be presented here at once to complete the calculation of each layer.\n",
    "<br>"
   ]
  },
  {
   "cell_type": "code",
   "execution_count": 47,
   "metadata": {
    "ExecutionIndicator": {
     "show": false
    },
    "execution": {
     "iopub.execute_input": "2025-02-19T03:41:03.457648Z",
     "iopub.status.busy": "2025-02-19T03:41:03.457216Z",
     "iopub.status.idle": "2025-02-19T03:41:36.560388Z",
     "shell.execute_reply": "2025-02-19T03:41:36.559688Z",
     "shell.execute_reply.started": "2025-02-19T03:41:03.457628Z"
    },
    "tags": []
   },
   "outputs": [],
   "source": [
    "# Now, let's start to complete the calculation of all 32 Transformer blocks!\n",
    "\n",
    "# Use the embeddings of the input tokens as the initial input.\n",
    "final_embedding = token_embeddings_unnormalized  # [17x4096]\n",
    "\n",
    "# Perform layer-by-layer calculation for the 32-layer Transformer blocks\n",
    "for layer in range(n_layers):\n",
    "    #########################################################################################################################\n",
    "    ################### Round 1: Normalization - Feature Transformation - Residual Operation ###############################\n",
    "    \n",
    "    ########################### The first normalization ###################################################\n",
    "    \n",
    "    # The first normalization\n",
    "    layer_embedding_norm = rms_norm(final_embedding, model[f\"layers.{layer}.attention_norm.weight\"])  # [17x4096] & [4096] -> [17x4096]\n",
    "    \n",
    "    ################ The first feature transformation - Multi-Head Self-Attention ########################\n",
    "    \n",
    "    # Obtain the qkv weight matrix of the attention mechanism for the current layer\n",
    "    q_layer = model[f\"layers.{layer}.attention.wq.weight\"]  # [4096x4096]\n",
    "    q_layer = q_layer.view(n_heads, q_layer.shape[0] // n_heads, dim)  # [32x128x4096]\n",
    "    k_layer = model[f\"layers.{layer}.attention.wk.weight\"]  # [1024x4096]\n",
    "    k_layer = k_layer.view(n_kv_heads, k_layer.shape[0] // n_kv_heads, dim)  # [8x128x4096]\n",
    "    v_layer = model[f\"layers.{layer}.attention.wv.weight\"]  # [1024x4096]\n",
    "    v_layer = v_layer.view(n_kv_heads, v_layer.shape[0] // n_kv_heads, dim)  # [8x128x4096]\n",
    "    \n",
    "    # Used to store the calculation results of the attention mechanism for each head\n",
    "    qkv_attention_store = []\n",
    "    \n",
    "    # Calculate the attention mechanism results for each head\n",
    "    for head in range(n_heads):\n",
    "        # Extract the QKV weight matrices corresponding to the current head\n",
    "        q_layer_head = q_layer[head]  # [32x128x4096] -> [128x4096]\n",
    "        k_layer_head = k_layer[head//4]  # Every 4 heads share one key weight, [8x128x4096] -> [128x4096]\n",
    "        v_layer_head = v_layer[head//4]  # Every 4 heads share one value weight, [8x128x4096] -> [128x4096]\n",
    "        \n",
    "        # Calculate XW to obtain the QKV vectors\n",
    "        # [17x4096] x [4096x128] = [17x128]\n",
    "        q_per_token = torch.matmul(layer_embedding_norm, q_layer_head.T)\n",
    "        k_per_token = torch.matmul(layer_embedding_norm, k_layer_head.T)\n",
    "        v_per_token = torch.matmul(layer_embedding_norm, v_layer_head.T)\n",
    "        \n",
    "        # Add position information to the query vector (RoPE)\n",
    "        q_per_token_split_into_pairs = q_per_token.float().view(q_per_token.shape[0], -1, 2)  # Divide vector into pairs along the dimensions direction to form dimension pairs. [17x128] -> [17x64x2]\n",
    "        q_per_token_as_complex_numbers = torch.view_as_complex(q_per_token_split_into_pairs)  # Convert to complex number representation, (x,y) -> (x+yi). [17x64x2] -> [17x64]\n",
    "        q_per_token_as_complex_numbers_rotated = q_per_token_as_complex_numbers * freqs_cis  # Calculate (x+yi)*(cosmθ+sinmθi) to complete the rotation operation. [17x64] * [17x64] = [17x64]\n",
    "        q_per_token_split_into_pairs_rotated = torch.view_as_real(q_per_token_as_complex_numbers_rotated)  # Convert the result back to real number representation, (x+yi) -> (x,y). [17x64] -> [17x64x2]\n",
    "        q_per_token_rotated = q_per_token_split_into_pairs_rotated.view(q_per_token.shape)  # Convert the result back to the original vector shape to obtain the final query vector. [17x64x2] -> [17x128]\n",
    "        \n",
    "        # Add position information to the key vector (RoPE)\n",
    "        k_per_token_split_into_pairs = k_per_token.float().view(k_per_token.shape[0], -1, 2)  # Divide vector into pairs along the dimensions direction to form dimension pairs. [17x128] -> [17x64x2]\n",
    "        k_per_token_as_complex_numbers = torch.view_as_complex(k_per_token_split_into_pairs)  # Convert to complex number representation, (x,y) -> (x+yi). [17x64x2] -> [17x64]\n",
    "        k_per_token_as_complex_numbers_rotated = k_per_token_as_complex_numbers * freqs_cis  # Calculate (x+yi)*(cosmθ+sinmθi) to complete the rotation operation. [17x64] * [17x64] = [17x64]\n",
    "        k_per_token_split_into_pairs_rotated = torch.view_as_real(k_per_token_as_complex_numbers_rotated)  # Convert the result back to real number representation, (x+yi) -> (x,y). [17x64] -> [17x64x2]\n",
    "        k_per_token_rotated = k_per_token_split_into_pairs_rotated.view(k_per_token.shape)  # Convert the result back to the original vector shape to obtain the final key vector. [17x64x2] -> [17x128]\n",
    "        \n",
    "        # Calculate the attention scores and normalize the scores simultaneously (i.e., Q×K/sqrt(dim))\n",
    "        qk_per_token = torch.matmul(q_per_token_rotated, k_per_token_rotated.T)/(128)**0.5  # [17x128] x [128x17] = [17x17]\n",
    "        \n",
    "        # Mask the scores of future tokens\n",
    "        mask = torch.full(qk_per_token.shape, float(\"-inf\"), device=qk_per_token.device)  # Create a matrix with the same shape as the attention scores, filled with negative infinity, and stored in the same device as other vectors to prevent errors in subsequent calculations. [17x17]\n",
    "        mask = torch.triu(mask, diagonal=1)  # Keep the negative infinity in the upper-triangular part and set others to 0 (i.e., the upper-triangular area represents future tokens that need to be masked). The diagonal offset is 1 to avoid masking the token itself. [17x17]\n",
    "        qk_per_token_after_masking = qk_per_token + mask  # Add the attention scores with the masking matrix, making the upper-triangular part of the score matrix become negative infinity, which will tend to 0 after the subsequent softmax operation. [17x17]\n",
    "        \n",
    "        # Calculate the attention weights (i.e., softmax(score))\n",
    "        # Meanwhile, convert it back to half-precision (because it will be multiplied with the value vector v_per_token later, so the data types need to be the same).\n",
    "        qk_per_token_after_masking_after_softmax = torch.nn.functional.softmax(qk_per_token_after_masking, dim=1).to(torch.bfloat16)  # Calculate the softmax row-by-row. [17x17]\n",
    "        \n",
    "        # Calculate the final result of the attention mechanism (i.e., softmax(score) × V)\n",
    "        qkv_attention = torch.matmul(qk_per_token_after_masking_after_softmax, v_per_token)  # [17x17] x [17x128] = [17x128]\n",
    "        \n",
    "        # Record the result of this head\n",
    "        qkv_attention_store.append(qkv_attention)\n",
    "    \n",
    "    # Merge the multi-head attention results\n",
    "    stacked_qkv_attention = torch.cat(qkv_attention_store, dim=-1)  # Merge the second dimension, that is, 32x[17x128] -> [17x4096]\n",
    "    \n",
    "    # Perform a linear mapping on the results to generate the final multi-head self-attention mechanism results\n",
    "    o_layer = model[f\"layers.{layer}.attention.wo.weight\"]\n",
    "    embedding_delta = torch.matmul(stacked_qkv_attention, o_layer.T)  # [17x4096] x [4096x4096] = [17x4096]\n",
    "\n",
    "    ########################### The first residual operation ##############################################\n",
    "    \n",
    "    # The first Residual Operation\n",
    "    # Add the output of the attention layer to the original input to complete the residual operation\n",
    "    embedding_after_edit = final_embedding + embedding_delta  # [17x4096] + [17x4096] = [17x4096]\n",
    "    \n",
    "    \n",
    "    #########################################################################################################################\n",
    "    #################### Round 2: Normalization - Feature Transformation - Residual Operation ##############################\n",
    "    \n",
    "    ########################### The second normalization ##################################################\n",
    "    \n",
    "    # The second normalization\n",
    "    embedding_after_edit_normalized = rms_norm(embedding_after_edit, model[f\"layers.{layer}.ffn_norm.weight\"])  # [17x4096] & [4096] -> [17x4096]\n",
    "    \n",
    "    ################## The second feature transformation - Feed-Forward Network ##########################\n",
    "    \n",
    "    # Load the parameter matrix of the feed-forward network (SwiGLU)\n",
    "    w1 = model[f\"layers.{layer}.feed_forward.w1.weight\"]  # [14336x4096]\n",
    "    w3 = model[f\"layers.{layer}.feed_forward.w3.weight\"]  # [14336x4096]\n",
    "    w2 = model[f\"layers.{layer}.feed_forward.w2.weight\"]  # [4096x14336]\n",
    "    \n",
    "    # Calculate the results of the feed-forward network (output = (silu(XW1) * XW3)W2)\n",
    "    # [17x4096] x [4096x14336] x [14336x4096] = [17x4096]\n",
    "    output_after_feedforward = torch.matmul(torch.functional.F.silu(torch.matmul(embedding_after_edit_normalized, w1.T)) * torch.matmul(embedding_after_edit_normalized, w3.T), w2.T)\n",
    "    \n",
    "    ########################### The second residual operation ##############################################\n",
    "    \n",
    "    # The second residual operation, obtain the final output result of the current Transformer block\n",
    "    # Add the output of the feed-forward layer to the original input to complete the residual operation\n",
    "    final_embedding = embedding_after_edit+output_after_feedforward  # [17x4096] + [17x4096] = [17x4096]"
   ]
  },
  {
   "cell_type": "markdown",
   "metadata": {
    "tags": []
   },
   "source": [
    "# Let's complete the last step and predict the next token\n",
    "\n",
    "Now we have obtained the final embeddings, which contains all the information we needed to predict the next token.\n",
    "<br>\n",
    "The shape of this embedding is the same as that of the input token embedding, both being [17x4096], where 17 is the number of tokens and 4096 is the dimension of the embedding.\n",
    "\n",
    "<div>\n",
    "    <img src=\"images/last_norm.png\" width=\"600px\"/>\n",
    "</div>"
   ]
  },
  {
   "cell_type": "markdown",
   "metadata": {},
   "source": [
    "## First, perform one last normalization on the output of the last Transformer layer"
   ]
  },
  {
   "cell_type": "code",
   "execution_count": 48,
   "metadata": {
    "ExecutionIndicator": {
     "show": false
    },
    "execution": {
     "iopub.execute_input": "2025-02-19T03:41:36.561313Z",
     "iopub.status.busy": "2025-02-19T03:41:36.561064Z",
     "iopub.status.idle": "2025-02-19T03:41:36.656772Z",
     "shell.execute_reply": "2025-02-19T03:41:36.656279Z",
     "shell.execute_reply.started": "2025-02-19T03:41:36.561291Z"
    },
    "tags": []
   },
   "outputs": [
    {
     "data": {
      "text/plain": [
       "torch.Size([17, 4096])"
      ]
     },
     "execution_count": 48,
     "metadata": {},
     "output_type": "execute_result"
    }
   ],
   "source": [
    "# Perform the last normalization in the entire model\n",
    "final_embedding = rms_norm(final_embedding, model[\"norm.weight\"])  # [17x4096] & [4096] -> [17x4096]\n",
    "final_embedding.shape"
   ]
  },
  {
   "cell_type": "markdown",
   "metadata": {
    "tags": []
   },
   "source": [
    "## Then, make the prediction based on the embedding corresponding to the last token (perform a linear mapping to the vocabulary dimension)\n",
    "\n",
    "<div>\n",
    "    <img src=\"images/finallayer.png\" width=\"600px\"/>\n",
    "</div>\n",
    "\n",
    "<br>\n",
    "We will use the output decoder (a linear mapping layer) to convert the embedding vector of the last token into a prediction result for the next token (the dimension is the size of the vocabulary. If we apply a softmax function to the result, the value of each dimension represents the probability that the next token belongs to that word).\n",
    "<br><br>\n",
    "\n",
    "Why do we only use the output vector of the last token to predict the next token?\n",
    "<br>\n",
    "Because during training, the model's objective is to predict the next token based on the current token and all previous tokens. Therefore, the output vector corresponding to each token is used to predict the next token relative to itself, rather than the next token for the entire input.\n",
    "<br><br>\n",
    "\n",
    "We hope the answer is 42 in our example :)\n",
    "<br>\n",
    "Note: 42 is the answer to \"the answer to the ultimate question of life, the universe, and everything is \" according to the book *The Hitchhiker's Guide to the Galaxy*. Most modern large language models will answer 42, which will verify the correctness of our entire code! Good luck to us :)"
   ]
  },
  {
   "cell_type": "code",
   "execution_count": 49,
   "metadata": {
    "ExecutionIndicator": {
     "show": false
    },
    "execution": {
     "iopub.execute_input": "2025-02-19T03:41:36.657742Z",
     "iopub.status.busy": "2025-02-19T03:41:36.657446Z",
     "iopub.status.idle": "2025-02-19T03:41:36.756883Z",
     "shell.execute_reply": "2025-02-19T03:41:36.756230Z",
     "shell.execute_reply.started": "2025-02-19T03:41:36.657721Z"
    },
    "tags": []
   },
   "outputs": [
    {
     "data": {
      "text/plain": [
       "torch.Size([128256])"
      ]
     },
     "execution_count": 49,
     "metadata": {},
     "output_type": "execute_result"
    }
   ],
   "source": [
    "# Perform the last linear mapping to map the embeddings to the size of the vocabulary dimension as a prediction for the next token\n",
    "logits = torch.matmul(final_embedding[-1], model[\"output.weight\"].T)  # [17x4096] -> [4096] -> [4096] x [4096x128256] = [128256]\n",
    "logits.shape"
   ]
  },
  {
   "cell_type": "markdown",
   "metadata": {},
   "source": [
    "## Here's the prediction result!"
   ]
  },
  {
   "cell_type": "code",
   "execution_count": 50,
   "metadata": {
    "ExecutionIndicator": {
     "show": false
    },
    "execution": {
     "iopub.execute_input": "2025-02-19T03:41:36.757818Z",
     "iopub.status.busy": "2025-02-19T03:41:36.757561Z",
     "iopub.status.idle": "2025-02-19T03:41:36.761778Z",
     "shell.execute_reply": "2025-02-19T03:41:36.761324Z",
     "shell.execute_reply.started": "2025-02-19T03:41:36.757798Z"
    },
    "tags": []
   },
   "outputs": [
    {
     "data": {
      "text/plain": [
       "tensor(2983)"
      ]
     },
     "execution_count": 50,
     "metadata": {},
     "output_type": "execute_result"
    }
   ],
   "source": [
    "# Extract the id corresponding to the dimension with the highest probability,\n",
    "# is gonna be the predicted next token's id\n",
    "next_token = torch.argmax(logits, dim=-1)  # Get the index corresponding to the maximum value, which is the predicted next token id. [128256] -> [1]\n",
    "next_token"
   ]
  },
  {
   "cell_type": "code",
   "execution_count": 51,
   "metadata": {
    "ExecutionIndicator": {
     "show": false
    },
    "execution": {
     "iopub.execute_input": "2025-02-19T03:41:36.762596Z",
     "iopub.status.busy": "2025-02-19T03:41:36.762252Z",
     "iopub.status.idle": "2025-02-19T03:41:36.765213Z",
     "shell.execute_reply": "2025-02-19T03:41:36.764830Z",
     "shell.execute_reply.started": "2025-02-19T03:41:36.762580Z"
    },
    "tags": []
   },
   "outputs": [
    {
     "data": {
      "text/plain": [
       "'42'"
      ]
     },
     "execution_count": 51,
     "metadata": {},
     "output_type": "execute_result"
    }
   ],
   "source": [
    "# Based on the predicted id, restore it to the specific predicted value\n",
    "tokenizer.decode([next_token.item()])"
   ]
  },
  {
   "cell_type": "markdown",
   "metadata": {
    "tags": []
   },
   "source": [
    "<div>\n",
    "    <img src=\"images/42.png\" width=\"600px\"/>\n",
    "</div>"
   ]
  },
  {
   "cell_type": "markdown",
   "metadata": {},
   "source": [
    "# Let's dive deeper and see how different embeddings or token masking strategies might affect the prediction results :)\n",
    "\n",
    "Now we've got the final prediction results. If you're still interested, let's explore some of the issues that might have been mentioned before~\n",
    "<br>\n",
    "\n",
    "We'll briefly explore three scenarios:\n",
    "1. Apart from the top-1 result, what else is predicted in the current prediction, that is, the top-k results?\n",
    "2. What can be predicted if we use the output embedding of other tokens for prediction?\n",
    "3. If the future tokens were not masked during the attention calculation before, how would the prediction results differ?"
   ]
  },
  {
   "cell_type": "code",
   "execution_count": 52,
   "metadata": {
    "ExecutionIndicator": {
     "show": false
    },
    "execution": {
     "iopub.execute_input": "2025-02-19T03:41:36.765934Z",
     "iopub.status.busy": "2025-02-19T03:41:36.765675Z",
     "iopub.status.idle": "2025-02-19T03:41:36.865832Z",
     "shell.execute_reply": "2025-02-19T03:41:36.865410Z",
     "shell.execute_reply.started": "2025-02-19T03:41:36.765919Z"
    },
    "tags": []
   },
   "outputs": [
    {
     "data": {
      "text/plain": [
       "['42', '6', '43', '41', '4', '1', '45', '3', '2', '46']"
      ]
     },
     "execution_count": 52,
     "metadata": {},
     "output_type": "execute_result"
    }
   ],
   "source": [
    "# Let's first take a look at the top-k prediction results\n",
    "logits_sort, logits_idx = torch.sort(logits, dim=-1, descending=True)  # Put the token with the highest probability prediction at the front, [128256]\n",
    "[tokenizer.decode([i]) for i in logits_idx[:10]]  # View the top 10 high-probability results"
   ]
  },
  {
   "cell_type": "code",
   "execution_count": 53,
   "metadata": {
    "ExecutionIndicator": {
     "show": false
    },
    "execution": {
     "iopub.execute_input": "2025-02-19T03:41:36.866538Z",
     "iopub.status.busy": "2025-02-19T03:41:36.866319Z",
     "iopub.status.idle": "2025-02-19T03:41:37.768004Z",
     "shell.execute_reply": "2025-02-19T03:41:37.767357Z",
     "shell.execute_reply.started": "2025-02-19T03:41:36.866521Z"
    },
    "tags": []
   },
   "outputs": [
    {
     "name": "stdout",
     "output_type": "stream",
     "text": [
      "Input tokens: ['<|begin_of_text|>', 'the', ' answer', ' to', ' the', ' ultimate', ' question', ' of', ' life', ',', ' the', ' universe', ',', ' and', ' everything', ' is', ' ']\n",
      "Predict results based on 1th token: ['Question', 'def', '#', 'The', 'import', 'Tags', 'A', 'package', 'Home', 'I']\n",
      "Predict results based on 2th token: [' ', ' best', ' first', ' most', ' new', ' world', ' last', ' same', ' way', ' number']\n",
      "Predict results based on 3th token: [' to', ' is', ' was', ' of', ' lies', ',', ' for', ' you', ' key', ' will']\n",
      "Predict results based on 4th token: [' the', ' this', ' your', ' all', ' that', ' a', ' my', ' life', ' \"', ' everything']\n",
      "Predict results based on 5th token: [' question', ' problem', ' above', ' ultimate', ' first', ' r', ' following', ' questions', ' most', ' previous']\n",
      "Predict results based on 6th token: [' question', ' questions', ' mystery', '\\xa0', ' quest', '\\n', ' life', ' philosophical', ' qu', ' problem']\n",
      "Predict results based on 7th token: [' of', '\\n', ' to', ' is', '?\\n', ',', '.\\n', ':', '...\\n', ' about']\n",
      "Predict results based on 8th token: [' life', ' Life', ' the', '\\xa0', ' everything', ' existence', '\\n', ' LIFE', ' all', ' human']\n",
      "Predict results based on 9th token: [',', ' the', '\\n', ' and', ' is', ',\\n', '.\\n', '?\\n', '...\\n', '...']\n",
      "Predict results based on 10th token: [' the', ' universe', ' and', ' etc', '\\xa0', ' is', ' death', ' of', ' or', ' everything']\n",
      "Predict results based on 11th token: [' universe', ' Universe', '\\n', '\\xa0', ' un', ' univers', ' uni', ' cosmos', ' universal', ' u']\n",
      "Predict results based on 12th token: [',', ' and', ' &', '\\n', ',\\n', ' ,', '...\\n', ',and', '...', '\\xa0']\n",
      "Predict results based on 13th token: [' and', ' everything', ' &', ' the', ' etc', '\\xa0', ' is', ' or', ' ...\\n', ' an']\n",
      "Predict results based on 14th token: [' everything', '\\xa0', ' the', ' every', '\\n', ' ever', ' all', ' Everything', ' EVERY', '...']\n",
      "Predict results based on 15th token: ['\\n', ' is', '.\\n', '.', '?\\n', ',', ' (', '\\n\\n', '...\\n', ' in']\n",
      "Predict results based on 16th token: [' ', '\\n', '...', '...\\n', ':', ' forty', ' not', ' \"', '…', ' a']\n",
      "Predict results based on 17th token: ['42', '6', '43', '41', '4', '1', '45', '3', '2', '46']\n"
     ]
    }
   ],
   "source": [
    "# Next, let's to see what can we get by using the embeddings of other tokens for prediction\n",
    "logits_all_token = torch.matmul(final_embedding, model[\"output.weight\"].T)  # Map the embeddings to the same size as the vocabulary, [17x4096] x [4096x128256] = [17x128256]\n",
    "logits_all_token_sort, logits_all_token_idx = torch.sort(logits_all_token, dim=-1, descending=True)  # Put the token with the highest probability prediction at the front, [17x128256]\n",
    "\n",
    "print('Input tokens:', prompt_split_as_tokens)  # Display the input tokens, [17]\n",
    "\n",
    "# Display the results of the next-token prediction based on the output embedding of each token\n",
    "for i in range(len(final_embedding)):\n",
    "    print(f'Predict results based on {i+1}th token:', [tokenizer.decode([j]) for j in logits_all_token_idx[i][:10]])  # Output the top 10 high-probability results\n",
    "    \n",
    "_=\"\"\"\n",
    "It can be seen that when making predictions based on each token, the prediction result is the possible result of the next token after the \"current token\",\n",
    "rather than the prediction result of the entire complete input.\n",
    "Therefore, in actual prediction, only the embedding of the last token will be used for prediction.\n",
    "\"\"\""
   ]
  },
  {
   "cell_type": "code",
   "execution_count": 54,
   "metadata": {
    "ExecutionIndicator": {
     "show": false
    },
    "execution": {
     "iopub.execute_input": "2025-02-19T03:41:37.769131Z",
     "iopub.status.busy": "2025-02-19T03:41:37.768713Z",
     "iopub.status.idle": "2025-02-19T03:41:37.772849Z",
     "shell.execute_reply": "2025-02-19T03:41:37.772358Z",
     "shell.execute_reply.started": "2025-02-19T03:41:37.769106Z"
    },
    "tags": []
   },
   "outputs": [],
   "source": [
    "# Finally, let's take a look at what the prediction results will be if we don't mask future tokens when calculating attention\n",
    "# At this time, the prediction results based on each token will be as follows\n",
    "# It can be seen that due to the visibility of future tokens, the embeddings of each token will more accurately predict \"the next token for it\" (it's a bit like \"cheating\") \n",
    "\n",
    "_=\"\"\"\n",
    "Input tokens: ['<|begin_of_text|>', 'the', ' answer', ' to', ' the', ' ultimate', ' question', ' of', ' life', ',', ' the', ' universe', ',', ' and', ' everything', ' is', ' ']\n",
    "Predict results based on 1th token: ['://', '.Forms', '_REF', ' Angeles', '.swing', '�', 'php', 'во', 'ysics', '�']\n",
    "Predict results based on 2th token: [' answer', ' Hitch', ' universe', ' question', ' ultimate', ' meaning', ' hitch', ' Universe', ' Answer', ' reason']\n",
    "Predict results based on 3th token: [' to', ' is', ',', ':', ' was', '\\n', ' ', ' (', '\\n\\n', ' of']\n",
    "Predict results based on 4th token: [' the', ' life', ' this', ' which', ' everything', ' that', ' how', ' why', ' ', ' all']\n",
    "Predict results based on 5th token: [' ultimate', ' question', ' great', ' meaning', ' universe', ' Ultimate', ' everything', ' life', ' holy', ' greatest']\n",
    "Predict results based on 6th token: [' question', ' answer', ' is', ' was', '\\n', ' questions', ' mystery', '\\n\\n', ' what', ' Question']\n",
    "Predict results based on 7th token: [' of', ' is', '\\n', ',', ' about', ':', ' to', ' in', ' (', '<|end_of_text|>']\n",
    "Predict results based on 8th token: [' life', ' existence', ' everything', ' Life', ' the', ' death', ' time', ' all', ' why', ' which']\n",
    "Predict results based on 9th token: [',', ' is', ' the', '\\n', ':', ' (', '...', ' and', ' ,', ' -']\n",
    "Predict results based on 10th token: [' the', ' and', ' is', ' death', ' The', ' which', ' or', '\\xa0', ' existence', ' don']\n",
    "Predict results based on 11th token: [' universe', ' answer', ' cosmos', ' world', ' existence', ' Universe', ' everything', ' un', ' meaning', ' question']\n",
    "Predict results based on 12th token: [',', ' and', ' is', ' &', '\\n', ' ,', '.', '...', ' (', ' ']\n",
    "Predict results based on 13th token: [' and', ' &', ' don', ' the', ' is', ' a', ' or', ' Douglas', '\\xa0', '<|end_of_text|>']\n",
    "Predict results based on 14th token: [' everything', ' dough', ' don', ' ever', ' deep', ' Douglas', ' the', ' every', ' all', ' death']\n",
    "Predict results based on 15th token: ['\\n', ' is', ',', '.', ' ', ' (', ':', '<|end_of_text|>', '\\n\\n', '.\\n']\n",
    "Predict results based on 16th token: [' ', '\\n', ' forty', '...', ' \"', '42', ' the', ':', '\\xa0', ' to']\n",
    "Predict results based on 17th token: ['42', '6', '4', '41', '1', '2', '3', '7', '5', '43']\n",
    "\"\"\""
   ]
  },
  {
   "cell_type": "markdown",
   "metadata": {},
   "source": [
    "# Need to predict multiple tokens? Just using KV-Cache! (It really took me a lot of effort to sort this out. Orz)\n",
    "\n",
    "\n",
    "<span style=\"font-size: 1.5em; font-weight: bold;\">How to Continuously Predict Multiple Tokens</span>\n",
    "\n",
    "Now, we've completed the prediction of the next word for the input text. But what if our expected output requires multiple tokens?\n",
    "<br>\n",
    "For example, in practical llm applications, models usually don't output just one word. Instead, they often output a passage of text, or even a very long text. How is this ability achieved?\n",
    "<br>\n",
    "Actually, it's quite simple. We just need to repeatedly call the llm's prediction process to gradually generate a complete sentence or paragraph.\n",
    "<br>\n",
    "This process is like \"snowballing\". Each time we predict a word, we add this word to the current input sequence, and then call the model again for a new round of prediction. The prediction stops when we encounter a stop symbol (a special token \"<|end_of_text|>\" in llama3) or reach the maximum length limit (a hyperparameter max_seq_len).\n",
    "<br><br>\n",
    "Does this sound inefficient? Yes!\n",
    "<br>\n",
    "That's why there are well-known caching mechanisms like KV-Cache. By caching the KV vectors of historical tokens, we can reduce the input and computational load, thus improving the inference efficiency.\n",
    "<br>\n",
    "Thanks to the caching mechanism, when we use a large model for inference, you may notice that waiting for the first token to be output is often the most time-consuming. But once the first token is output, the output speed of subsequent tokens will increase significantly.\n",
    "<br><br>\n",
    "\n",
    "<span style=\"font-size: 1.5em; font-weight: bold;\">Advantages and Disadvantages of KV-Cache</span>\n",
    "\n",
    "**Advantage**: When continuously predicting, we only need to input the new token each time instead of the entire text sequence. This greatly improves the calculation speed during inference.\n",
    "<br>\n",
    "**Disadvantage**: Due to the caching mechanism, it will consume more memory resources during inference.\n",
    "<br><br>\n",
    "\n",
    "<span style=\"font-size: 1.5em; font-weight: bold;\">Principle Derivation of KV-Cache</span>\n",
    "\n",
    "KV-Cache comes from the observation and analysis of the above matrix calculation process. By analyzing the calculation process of each input token, we can find that in most calculation steps, the calculation of each token is actually relatively independent and rately involves interaction with other tokens. Only when calculating the attention mechanism will token-to-token interactions be involved, thus requiring the caching of historical KV vectors.\n",
    "<br>\n",
    "\n",
    "<span style=\"font-size: 1.2em; font-weight: bold;\">Here is the specific derivation logic of KV-Cache:</span>\n",
    "1. **Premise**: To predict the next token, we only need to get the output result of the last token (just as we did in the prediction chapter).\n",
    "2. **Non-attention parts only needs to calculate the new tokens**: Except for the attention calculation, the calculations of all other parts are independent among tokens. So we only need to calculate the new tokens and don't need to input historical tokens (I'll expand the analysis below).\n",
    "3. **Attention parts also only needs to calculate the new tokens**: In the attention layer, due to the masking mechanism, the output results of historical tokens won't be affected by future new tokens. So their inputs and outputs at each layer are fixed, that is, the QKV vectors of historical tokens will not change because of the addition of new tokens. Thus, we only need to calculate the attention of the new tokens.\n",
    "4. **Calculate the new token's attention mechanism**: The attention layer is used to let the token obtain the context information of historical tokens. So, for each new token, we need to calculate the weighted sum using the value vectors of all tokens. Therefore, we need to store the values of historical tokens.\n",
    "5. **Calculate the new token's attention weights**: As known from point 4, we also need to obtain the importance information, i.e., weights, between the new tokens and historical tokens first. So we need to calculate the product of the key vectors of the new tokens with the key vectors of all tokens. Therefore, we need to store the keys of historical tokens.\n",
    "6. **Acquisition of KV-Cache**: As known from points 4 and 5, we need to store the KV vectors of historical tokens. Since the query vectors are not used, we don't need to store them. This is how the kv-cache came about.\n",
    "7. **Efficiency of KV-Cache**: As known from point 3, the historical KV vectors won't change. So they can be incrementally updated during the continuous prediction process without modifying the historical content. In this way, each time we predict, we only need to input and calculate the result of the newly added tokens instead of taking the complete sequence as input, thus greatly improving the inference efficiency.\n",
    "<br><br>\n",
    "\n",
    "<span style=\"font-size: 1.2em; font-weight: bold;\">Additional: Analysis of the Independence of Token Calculation in KV-Cache</span>\n",
    "\n",
    "**All components except the attention layer (no interaction among them)**:\n",
    "1. **Two times normalizations**: Each token vector is normalized in its own feature dimension without using other tokens.\n",
    "2. **Two times residual connections (add)**: Each token vector adds its own output result to itself without using other tokens.\n",
    "3. **Feed-forward network (FFN)**: Each token vector is multiplied by the same weight matrices W1, W2, W3 to get the result, and other tokens are not used during this process. Imagine that if the number of input tokens is 17, the calculation of FFN can be simplified as: [17x4096] x [4096x14336] x [14336x4096] = [17x4096]. This is actually equivalent to inputting one token at a time and then concatenating the 17 results into a matrix, that is: 17 times ([1x4096] x [4096x14336] x [14336x4096] = [1x4096]) = 17x[1x4096] => [17x4096]. Therefore, when each token is calculated in the feed-forward layer, there is actually no interaction with other tokens.\n",
    "\n",
    "**Attention layer (only have one-way interaction between new tokens and historical tokens)**:\n",
    "1. **Calculate QKV vectors**: Each token vector is multiplied by the same QKV weight matrices to get the result without using other tokens.\n",
    "2. **Add positional information to QK vectors**: Each token vector performs an independent rotation operation based on its own position without using the specific content of other tokens.\n",
    "3. **Calculate attention weights**: The attention weights represent the correlation between each token and every historical tokens preceding it, and are independent of future tokens. Therefore, the results of historical tokens are independent of new tokens. And new tokens need the key vector cache of historical tokens.\n",
    "4. **Calculate the result of the attention mechanism**: The attention mechanism calculates the weighted sum of value vectors based on attention weights. So, similar to the conclusion in the previous point, the results of historical tokens are also independent of new tokens. And new tokens need the value vector cache of historical tokens.\n",
    "<br><br>\n",
    "\n",
    "<span style=\"font-size: 1.5em; font-weight: bold;\">Attention Calculation Process Based on KV-Cache</span>\n",
    "\n",
    "To clearly show the calculation process, we only derive the single-head scenario (the principle and process of extending it to the multi-head scenario are exactly the same as the previous multi-head attention implementation):\n",
    "1. Assume that the historical input tokens are $S_1$ with a length of N. Based on KV-Cache, we will store the KV result matrix of each head. The shape of a single head is [Nxhead_dim] = [Nx128].\n",
    "2. Assume that the newly added input tokens are $S_2$ with a length of M (it can be newly predicted tokens or the input of a new round of user dialogue or any other scenarios).\n",
    "3. Calculate the QKV vectors of the new tokens: $Q,K,V = S_2W_{Q,K,V}$ => [Mx4096] x [4096x128] = [Mx128].\n",
    "4. Add positional information to the QK vectors: The positions of new tokens should start from N + 1, not from 0. [Mx128] -> [Mx128].\n",
    "5. Add the new KV values to the KV cache to get the updated KV matrix, that is, [Nx128] -> [(N + M)x128].\n",
    "6. Calculate the attention weights of the new tokens: Attention_weight = softmax(QK/sqrt(d) + mask) => [Mx128] x [128x(N + M)] = [Mx(N + M)].\n",
    "7. Calculate the final result of the attention mechanism for the new tokens: Attention_weight x V => [Mx(N + M)] x [(N + M)x128] = [Mx128].\n",
    "8. Concatenate the results of each head and perform a linear mapping to get the final output of the attention layer, with a shape of 32x[Mx128] -> [Mx4096].\n",
    "<br><br>\n",
    "\n",
    "Since our previous learning process has been quite comprehensive, we won't implement the code for the optimization scheme here (if you're interested, you can refer to the official code of Llama 3, which is relatively easy to implement). Just like the parallel calculation of multi-head attention mentioned before, knowing that the calculation process can be optimized is enough~"
   ]
  },
  {
   "cell_type": "markdown",
   "metadata": {},
   "source": [
    "# Thank you all. Thanks for your continuous learning. Love you all :)\n",
    "\n",
    "Our learning has come to an end. I hope you have also enjoyed this reading process!\n",
    "\n",
    "## From Me\n",
    "If you've come across this work, thank you for your trust and for learning all the way to this point. I'm glad to be of help to you~\n",
    "<br>\n",
    "\n",
    "If you'd like to support my work\n",
    "1. give it a star⭐~ :) \n",
    "2. buy me a coffee~ [https://ko-fi.com/therealoliver](https://ko-fi.com/therealoliver)\n",
    "\n",
    "<br>\n",
    "\n",
    "## From the author of predecessor project\n",
    "\n",
    "If you want to support my work\n",
    "\n",
    "1. follow me on twitter https://twitter.com/naklecha \n",
    "2. or, buy me a coffee [https://www.buymeacoffee.com/naklecha](https://www.buymeacoffee.com/naklecha)\n",
    "\n",
    "Honestly, if you made it this far you already made my day :)\n",
    "\n",
    "what motivates me?\n",
    "\n",
    "My friends and I are on a mission - to make research more accessible!\n",
    "We created a research lab called A10 - [AAAAAAAAAA.org](http://aaaaaaaaaa.org/)\n",
    "\n",
    "A10 twitter - https://twitter.com/aaaaaaaaaaorg\n",
    "\n",
    "our thesis:\n",
    "<div>\n",
    "    <img src=\"images/a10.png\" width=\"600px\"/>\n",
    "</div>\n",
    "<br><br>\n",
    "Thanks again to the original author for the base code and illustrations, which also taught me a lot"
   ]
  },
  {
   "cell_type": "markdown",
   "metadata": {},
   "source": [
    "# LICENSE\n",
    "\n",
    "Copyright (c) 2025 Jinlong Zhang (https://github.com/therealoliver)\n",
    "\n",
    "Copyright (c) 2024 Nishant Aklecha\n",
    "\n",
    "MIT"
   ]
  }
 ],
 "metadata": {
  "kernelspec": {
   "display_name": "Python 3 (ipykernel)",
   "language": "python",
   "name": "python3"
  },
  "language_info": {
   "codemirror_mode": {
    "name": "ipython",
    "version": 3
   },
   "file_extension": ".py",
   "mimetype": "text/x-python",
   "name": "python",
   "nbconvert_exporter": "python",
   "pygments_lexer": "ipython3",
   "version": "3.10.14"
  },
  "toc-autonumbering": true,
  "toc-showtags": false
 },
 "nbformat": 4,
 "nbformat_minor": 4
}
